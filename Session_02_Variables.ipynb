{
 "cells": [
  {
   "cell_type": "markdown",
   "id": "1c577d13-2e2c-4418-bdf9-6be4ac936aa6",
   "metadata": {},
   "source": [
    "# Variables"
   ]
  },
  {
   "cell_type": "markdown",
   "id": "18eb737a-8539-4a1f-92bf-90d9e2fe8bd8",
   "metadata": {},
   "source": [
    "- Variables are used to store the data\n",
    "- The data can be changed.\n",
    "- These variables are used to manipulate python code."
   ]
  },
  {
   "cell_type": "code",
   "execution_count": 2,
   "id": "d30f2776-adda-41ea-9f88-2f200bb9dd52",
   "metadata": {},
   "outputs": [
    {
     "data": {
      "text/plain": [
       "100"
      ]
     },
     "execution_count": 2,
     "metadata": {},
     "output_type": "execute_result"
    }
   ],
   "source": [
    "number= 100\n",
    "number"
   ]
  },
  {
   "cell_type": "code",
   "execution_count": 3,
   "id": "dcd1bf62-9939-4834-8369-a42681f279a3",
   "metadata": {},
   "outputs": [
    {
     "data": {
      "text/plain": [
       "200"
      ]
     },
     "execution_count": 3,
     "metadata": {},
     "output_type": "execute_result"
    }
   ],
   "source": [
    "NUMBER = 200\n",
    "NUMBER"
   ]
  },
  {
   "cell_type": "code",
   "execution_count": 5,
   "id": "9c514a20-a79d-4d29-9e00-7a1e304767a0",
   "metadata": {},
   "outputs": [
    {
     "data": {
      "text/plain": [
       "300"
      ]
     },
     "execution_count": 5,
     "metadata": {},
     "output_type": "execute_result"
    }
   ],
   "source": [
    "NUMber=300\n",
    "NUMber"
   ]
  },
  {
   "cell_type": "code",
   "execution_count": 6,
   "id": "e9e646e4-7173-4e5f-93bf-7ba537ce4bdf",
   "metadata": {},
   "outputs": [
    {
     "data": {
      "text/plain": [
       "(100, 200, 300)"
      ]
     },
     "execution_count": 6,
     "metadata": {},
     "output_type": "execute_result"
    }
   ],
   "source": [
    "number,NUMBER,NUMber"
   ]
  },
  {
   "cell_type": "code",
   "execution_count": 7,
   "id": "ae4d34ac-0466-4ba3-815c-9065ed39a249",
   "metadata": {},
   "outputs": [
    {
     "data": {
      "text/plain": [
       "400"
      ]
     },
     "execution_count": 7,
     "metadata": {},
     "output_type": "execute_result"
    }
   ],
   "source": [
    "number123 = 400\n",
    "number123"
   ]
  },
  {
   "cell_type": "code",
   "execution_count": 8,
   "id": "3d97740f-1916-465c-8758-8cb914e65932",
   "metadata": {},
   "outputs": [
    {
     "ename": "SyntaxError",
     "evalue": "invalid decimal literal (3351802823.py, line 1)",
     "output_type": "error",
     "traceback": [
      "\u001b[1;36m  Cell \u001b[1;32mIn[8], line 1\u001b[1;36m\u001b[0m\n\u001b[1;33m    123number = 500\u001b[0m\n\u001b[1;37m      ^\u001b[0m\n\u001b[1;31mSyntaxError\u001b[0m\u001b[1;31m:\u001b[0m invalid decimal literal\n"
     ]
    }
   ],
   "source": [
    "123number = 500\n",
    "123number"
   ]
  },
  {
   "cell_type": "code",
   "execution_count": 9,
   "id": "4f77691f-24d3-4a6f-8b8f-180b0946f07e",
   "metadata": {},
   "outputs": [
    {
     "data": {
      "text/plain": [
       "100"
      ]
     },
     "execution_count": 9,
     "metadata": {},
     "output_type": "execute_result"
    }
   ],
   "source": [
    "number   #type first two letters and enter tab"
   ]
  },
  {
   "cell_type": "markdown",
   "id": "3bed8c5f-6868-4190-8260-aa5c0bd0b286",
   "metadata": {},
   "source": [
    "** NOTE **\n",
    "- Variables generally in black colour.\n",
    "- Green color should not be a variables.\n",
    "- Numbers as suffix can work.\n",
    "- Numbers as prefix fail\n"
   ]
  },
  {
   "cell_type": "code",
   "execution_count": 10,
   "id": "5c65ca27-5d4a-4a98-9c8b-a108eaf892bb",
   "metadata": {},
   "outputs": [
    {
     "ename": "SyntaxError",
     "evalue": "invalid syntax (2751311923.py, line 1)",
     "output_type": "error",
     "traceback": [
      "\u001b[1;36m  Cell \u001b[1;32mIn[10], line 1\u001b[1;36m\u001b[0m\n\u001b[1;33m    number$ = 600\u001b[0m\n\u001b[1;37m          ^\u001b[0m\n\u001b[1;31mSyntaxError\u001b[0m\u001b[1;31m:\u001b[0m invalid syntax\n"
     ]
    }
   ],
   "source": [
    "number$ = 600\n",
    "number$"
   ]
  },
  {
   "cell_type": "markdown",
   "id": "6274a8ed-5bf9-427e-ae9c-23b5756a7956",
   "metadata": {},
   "source": [
    "- Special characters are not allowed"
   ]
  },
  {
   "cell_type": "code",
   "execution_count": 11,
   "id": "190356d1-a3a2-4c5e-9a1f-2935473ade65",
   "metadata": {},
   "outputs": [
    {
     "ename": "SyntaxError",
     "evalue": "invalid syntax (3596576358.py, line 1)",
     "output_type": "error",
     "traceback": [
      "\u001b[1;36m  Cell \u001b[1;32mIn[11], line 1\u001b[1;36m\u001b[0m\n\u001b[1;33m    number one = 356\u001b[0m\n\u001b[1;37m           ^\u001b[0m\n\u001b[1;31mSyntaxError\u001b[0m\u001b[1;31m:\u001b[0m invalid syntax\n"
     ]
    }
   ],
   "source": [
    "number one = 356\n",
    "number one"
   ]
  },
  {
   "cell_type": "markdown",
   "id": "a6aec7e7-3b81-4be0-86f4-e86c91e709fc",
   "metadata": {},
   "source": [
    "- Space is also a special character"
   ]
  },
  {
   "cell_type": "code",
   "execution_count": 12,
   "id": "b0692efd-1e42-4425-97d0-551c18acb59a",
   "metadata": {},
   "outputs": [
    {
     "data": {
      "text/plain": [
       "345"
      ]
     },
     "execution_count": 12,
     "metadata": {},
     "output_type": "execute_result"
    }
   ],
   "source": [
    "number_one = 345\n",
    "number_one"
   ]
  },
  {
   "cell_type": "markdown",
   "id": "1f7c305d-5fbc-41fa-a7e2-ecf8adce906b",
   "metadata": {},
   "source": [
    "- Underscores are only allowed to use as a variable name"
   ]
  },
  {
   "cell_type": "code",
   "execution_count": 13,
   "id": "67615f06-e1e3-4cbe-8bbb-24de7971b07e",
   "metadata": {},
   "outputs": [
    {
     "data": {
      "text/plain": [
       "1000"
      ]
     },
     "execution_count": 13,
     "metadata": {},
     "output_type": "execute_result"
    }
   ],
   "source": [
    "_ = 1000\n",
    "_"
   ]
  },
  {
   "cell_type": "code",
   "execution_count": null,
   "id": "3bef6a5d-d3f4-4322-a440-86b275f70da1",
   "metadata": {},
   "outputs": [],
   "source": [
    "number=100  # w\n",
    "NUMBER=200 # w\n",
    "NUMber=300 # w\n",
    "number123=400 # w\n",
    "123number=500 # f\n",
    "number%=600 # f\n",
    "number one=700 # f\n",
    "number_one=800 # w \n",
    "_=900# w"
   ]
  },
  {
   "cell_type": "code",
   "execution_count": 1,
   "id": "c5f3a135-b0c7-4ce1-8f25-e62a89ec83c3",
   "metadata": {},
   "outputs": [
    {
     "ename": "SyntaxError",
     "evalue": "invalid syntax (2202500539.py, line 1)",
     "output_type": "error",
     "traceback": [
      "\u001b[1;36m  Cell \u001b[1;32mIn[1], line 1\u001b[1;36m\u001b[0m\n\u001b[1;33m    if = 1000\u001b[0m\n\u001b[1;37m       ^\u001b[0m\n\u001b[1;31mSyntaxError\u001b[0m\u001b[1;31m:\u001b[0m invalid syntax\n"
     ]
    }
   ],
   "source": [
    "if = 1000"
   ]
  },
  {
   "cell_type": "markdown",
   "id": "eeedd526-3a5d-49b2-8db6-4c393803adb2",
   "metadata": {},
   "source": [
    "- Keywords cannot be used as variables."
   ]
  },
  {
   "cell_type": "code",
   "execution_count": null,
   "id": "c825a062-21b1-4bf1-9638-f83572920aa6",
   "metadata": {},
   "outputs": [],
   "source": []
  }
 ],
 "metadata": {
  "kernelspec": {
   "display_name": "Python 3 (ipykernel)",
   "language": "python",
   "name": "python3"
  },
  "language_info": {
   "codemirror_mode": {
    "name": "ipython",
    "version": 3
   },
   "file_extension": ".py",
   "mimetype": "text/x-python",
   "name": "python",
   "nbconvert_exporter": "python",
   "pygments_lexer": "ipython3",
   "version": "3.12.7"
  }
 },
 "nbformat": 4,
 "nbformat_minor": 5
}
