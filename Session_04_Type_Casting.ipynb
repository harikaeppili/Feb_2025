{
 "cells": [
  {
   "cell_type": "markdown",
   "id": "4d5cb544-26b7-4e0d-87ba-6939257d4705",
   "metadata": {},
   "source": [
    "## Type Casting \n",
    "- Convert one data type to another data type.\n",
    "- We learned 4 data types\n",
    "    - Integer : int\n",
    "    - Float : float\n",
    "    - Boolean : bool\n",
    "    - String : str"
   ]
  },
  {
   "cell_type": "markdown",
   "id": "f8a2ac0e-3e01-4c0e-9aee-e176bdeff57e",
   "metadata": {},
   "source": [
    "### Int to other datatypes"
   ]
  },
  {
   "cell_type": "code",
   "execution_count": 3,
   "id": "d647bef8-fb62-4bac-af3a-60e39e543992",
   "metadata": {},
   "outputs": [
    {
     "name": "stdout",
     "output_type": "stream",
     "text": [
      "10\n"
     ]
    },
    {
     "data": {
      "text/plain": [
       "int"
      ]
     },
     "execution_count": 3,
     "metadata": {},
     "output_type": "execute_result"
    }
   ],
   "source": [
    "number = 10\n",
    "print(number)\n",
    "type(number)"
   ]
  },
  {
   "cell_type": "code",
   "execution_count": 4,
   "id": "7ce80e44-a40f-4732-9825-2d051b2d5f6d",
   "metadata": {},
   "outputs": [
    {
     "name": "stdout",
     "output_type": "stream",
     "text": [
      "10.0\n"
     ]
    },
    {
     "data": {
      "text/plain": [
       "float"
      ]
     },
     "execution_count": 4,
     "metadata": {},
     "output_type": "execute_result"
    }
   ],
   "source": [
    "float_number =float(number)\n",
    "print(float_number)\n",
    "type(float_number)"
   ]
  },
  {
   "cell_type": "code",
   "execution_count": 5,
   "id": "1e5f3279-53dd-40c6-89e4-fa9651a58d7b",
   "metadata": {},
   "outputs": [
    {
     "name": "stdout",
     "output_type": "stream",
     "text": [
      "True\n"
     ]
    },
    {
     "data": {
      "text/plain": [
       "bool"
      ]
     },
     "execution_count": 5,
     "metadata": {},
     "output_type": "execute_result"
    }
   ],
   "source": [
    "boolean_number = bool(number)\n",
    "print(boolean_number)\n",
    "type(boolean_number)"
   ]
  },
  {
   "cell_type": "code",
   "execution_count": 6,
   "id": "d0cbb3e1-204d-4793-897b-4e86f59136d9",
   "metadata": {},
   "outputs": [
    {
     "name": "stdout",
     "output_type": "stream",
     "text": [
      "10\n"
     ]
    },
    {
     "data": {
      "text/plain": [
       "str"
      ]
     },
     "execution_count": 6,
     "metadata": {},
     "output_type": "execute_result"
    }
   ],
   "source": [
    "string_number = str(number)\n",
    "print(string_number)\n",
    "type(string_number)"
   ]
  },
  {
   "cell_type": "code",
   "execution_count": 7,
   "id": "bd2f5d29-31e7-43e2-b299-8ebcb6f5ab6c",
   "metadata": {},
   "outputs": [
    {
     "data": {
      "text/plain": [
       "(100.0, True, '100')"
      ]
     },
     "execution_count": 7,
     "metadata": {},
     "output_type": "execute_result"
    }
   ],
   "source": [
    "float(100), bool(100), str(100)"
   ]
  },
  {
   "cell_type": "code",
   "execution_count": 8,
   "id": "0fabb492-0b8f-40f4-a57a-29084ae72eb9",
   "metadata": {},
   "outputs": [
    {
     "name": "stdout",
     "output_type": "stream",
     "text": [
      "100.0\n",
      "True\n",
      "100\n"
     ]
    }
   ],
   "source": [
    "print(float(100))\n",
    "print(bool(100))\n",
    "print(str(100))"
   ]
  },
  {
   "cell_type": "code",
   "execution_count": 9,
   "id": "088c776c-c931-4aa4-ab3a-9f1efe22b24e",
   "metadata": {},
   "outputs": [
    {
     "name": "stdout",
     "output_type": "stream",
     "text": [
      "-100.0\n",
      "True\n",
      "-100\n"
     ]
    }
   ],
   "source": [
    "print(float(-100))\n",
    "print(bool(-100))\n",
    "print(str(-100))"
   ]
  },
  {
   "cell_type": "markdown",
   "id": "7dd4306c-edbc-4c22-a4a2-cb152d292f22",
   "metadata": {},
   "source": [
    "- Zero means off.\n",
    "- False means off."
   ]
  },
  {
   "cell_type": "code",
   "execution_count": 2,
   "id": "01816a7b-07ce-4af2-8ef1-b2a454db872e",
   "metadata": {},
   "outputs": [
    {
     "name": "stdout",
     "output_type": "stream",
     "text": [
      "0.0\n",
      "False\n",
      "0\n"
     ]
    }
   ],
   "source": [
    "print(float(0))\n",
    "print(bool(0))\n",
    "print(str(0))"
   ]
  },
  {
   "cell_type": "code",
   "execution_count": null,
   "id": "a340d7e9-e4eb-49fd-9104-b5d340367371",
   "metadata": {},
   "outputs": [],
   "source": [
    "#### Float to other datatypes"
   ]
  },
  {
   "cell_type": "code",
   "execution_count": 13,
   "id": "b059a2a8-46a5-424c-a6f6-649578ffd62c",
   "metadata": {},
   "outputs": [
    {
     "name": "stdout",
     "output_type": "stream",
     "text": [
      "10.5\n"
     ]
    },
    {
     "data": {
      "text/plain": [
       "float"
      ]
     },
     "execution_count": 13,
     "metadata": {},
     "output_type": "execute_result"
    }
   ],
   "source": [
    "number = 10.5\n",
    "print(number)\n",
    "type(number)"
   ]
  },
  {
   "cell_type": "code",
   "execution_count": 14,
   "id": "02f20bd4-ad31-4d4d-82b2-cd43715e5a19",
   "metadata": {},
   "outputs": [
    {
     "name": "stdout",
     "output_type": "stream",
     "text": [
      "10\n",
      "True\n",
      "10.5\n"
     ]
    }
   ],
   "source": [
    "print(int(number))\n",
    "print(bool(number))\n",
    "print(str(number))"
   ]
  },
  {
   "cell_type": "code",
   "execution_count": 15,
   "id": "1246ea09-c9b1-4124-8e8b-ee1a0451a279",
   "metadata": {},
   "outputs": [
    {
     "name": "stdout",
     "output_type": "stream",
     "text": [
      "200\n"
     ]
    },
    {
     "data": {
      "text/plain": [
       "str"
      ]
     },
     "execution_count": 15,
     "metadata": {},
     "output_type": "execute_result"
    }
   ],
   "source": [
    "string = '200'\n",
    "print(string)\n",
    "type(string)"
   ]
  },
  {
   "cell_type": "code",
   "execution_count": 17,
   "id": "80d6b7d3-18dd-40b7-ae3b-857105f284de",
   "metadata": {},
   "outputs": [
    {
     "name": "stdout",
     "output_type": "stream",
     "text": [
      "200\n",
      "True\n",
      "200.0\n"
     ]
    }
   ],
   "source": [
    "print(int(string))\n",
    "print(bool(string))\n",
    "print(float(string))"
   ]
  },
  {
   "cell_type": "code",
   "execution_count": 18,
   "id": "dea3af87-2611-49ab-acd3-cff73fe8be18",
   "metadata": {},
   "outputs": [
    {
     "name": "stdout",
     "output_type": "stream",
     "text": [
      "0\n",
      "False\n",
      "0.0\n"
     ]
    }
   ],
   "source": [
    "n1= int(0.0)\n",
    "n2= bool(0.0)\n",
    "n3= str(0.0)\n",
    "print(n1)\n",
    "print(n2)\n",
    "print(n3)"
   ]
  },
  {
   "cell_type": "code",
   "execution_count": 19,
   "id": "743aeacd-a116-4c40-83d8-9e52814f3e69",
   "metadata": {},
   "outputs": [],
   "source": [
    "#### String to other types"
   ]
  },
  {
   "cell_type": "code",
   "execution_count": 20,
   "id": "d87a2cc5-e070-46e1-b340-da9c6330a4b6",
   "metadata": {},
   "outputs": [
    {
     "ename": "ValueError",
     "evalue": "invalid literal for int() with base 10: 'apple'",
     "output_type": "error",
     "traceback": [
      "\u001b[1;31m---------------------------------------------------------------------------\u001b[0m",
      "\u001b[1;31mValueError\u001b[0m                                Traceback (most recent call last)",
      "Cell \u001b[1;32mIn[20], line 1\u001b[0m\n\u001b[1;32m----> 1\u001b[0m \u001b[38;5;28mint\u001b[39m(\u001b[38;5;124m\"\u001b[39m\u001b[38;5;124mapple\u001b[39m\u001b[38;5;124m\"\u001b[39m)\n\u001b[0;32m      2\u001b[0m \u001b[38;5;28mfloat\u001b[39m(\u001b[38;5;124m\"\u001b[39m\u001b[38;5;124mapple\u001b[39m\u001b[38;5;124m\"\u001b[39m)\n\u001b[0;32m      3\u001b[0m \u001b[38;5;28mbool\u001b[39m(\u001b[38;5;124m\"\u001b[39m\u001b[38;5;124mapple\u001b[39m\u001b[38;5;124m\"\u001b[39m)\n",
      "\u001b[1;31mValueError\u001b[0m: invalid literal for int() with base 10: 'apple'"
     ]
    }
   ],
   "source": [
    "int(\"apple\")   # fail\n",
    "float(\"apple\") # fail\n",
    "bool(\"apple\")  # works"
   ]
  },
  {
   "cell_type": "markdown",
   "id": "5558c62e-946d-4306-85f9-8a1cbc9e33aa",
   "metadata": {},
   "source": [
    "- True : On something is present.\n",
    "- False: Off that is not present."
   ]
  },
  {
   "cell_type": "code",
   "execution_count": 21,
   "id": "b1aff9cd-4b50-481e-a3c8-a1b3a1f84ddd",
   "metadata": {},
   "outputs": [
    {
     "data": {
      "text/plain": [
       "True"
      ]
     },
     "execution_count": 21,
     "metadata": {},
     "output_type": "execute_result"
    }
   ],
   "source": [
    "bool(\"0\")"
   ]
  },
  {
   "cell_type": "code",
   "execution_count": 28,
   "id": "9e734326-0361-40ae-81be-2d938fdc2880",
   "metadata": {},
   "outputs": [
    {
     "data": {
      "text/plain": [
       "False"
      ]
     },
     "execution_count": 28,
     "metadata": {},
     "output_type": "execute_result"
    }
   ],
   "source": [
    "bool(\"\")"
   ]
  },
  {
   "cell_type": "code",
   "execution_count": 23,
   "id": "1e5e7554-1f91-48ae-b07e-215593c6021e",
   "metadata": {},
   "outputs": [
    {
     "data": {
      "text/plain": [
       "5"
      ]
     },
     "execution_count": 23,
     "metadata": {},
     "output_type": "execute_result"
    }
   ],
   "source": [
    "len(\"apple\")"
   ]
  },
  {
   "cell_type": "code",
   "execution_count": 25,
   "id": "aa425a56-9b37-47a3-83b4-0037ff0f1180",
   "metadata": {},
   "outputs": [
    {
     "data": {
      "text/plain": [
       "1"
      ]
     },
     "execution_count": 25,
     "metadata": {},
     "output_type": "execute_result"
    }
   ],
   "source": [
    "len('0')"
   ]
  },
  {
   "cell_type": "code",
   "execution_count": 31,
   "id": "a3dc8085-1fd3-4543-a4ea-7781db2e8ef9",
   "metadata": {},
   "outputs": [
    {
     "data": {
      "text/plain": [
       "0"
      ]
     },
     "execution_count": 31,
     "metadata": {},
     "output_type": "execute_result"
    }
   ],
   "source": [
    "len(\"\")"
   ]
  },
  {
   "cell_type": "markdown",
   "id": "d19284c3-1ccf-4859-bda6-b4db39371178",
   "metadata": {},
   "source": [
    "- For number 0 and 0.0, boolean conversion gives **False**.\n",
    "- For Strings which are empty, boolean conversion gives **False**."
   ]
  },
  {
   "cell_type": "code",
   "execution_count": 34,
   "id": "57ecb8ae-fef0-4147-ab95-3125b7e4a653",
   "metadata": {},
   "outputs": [
    {
     "name": "stdout",
     "output_type": "stream",
     "text": [
      "10\n",
      "10.0\n",
      "True\n"
     ]
    }
   ],
   "source": [
    "print(int(\"10\"))   # works\n",
    "print(float(\"10\")) # works\n",
    "print(bool(\"10\"))  # works\n"
   ]
  },
  {
   "cell_type": "code",
   "execution_count": 35,
   "id": "1a3e1925-2d21-49b8-b83b-0247a97cf5ce",
   "metadata": {},
   "outputs": [
    {
     "ename": "ValueError",
     "evalue": "could not convert string to float: 'apple'",
     "output_type": "error",
     "traceback": [
      "\u001b[1;31m---------------------------------------------------------------------------\u001b[0m",
      "\u001b[1;31mValueError\u001b[0m                                Traceback (most recent call last)",
      "Cell \u001b[1;32mIn[35], line 1\u001b[0m\n\u001b[1;32m----> 1\u001b[0m \u001b[38;5;28mprint\u001b[39m(\u001b[38;5;28mfloat\u001b[39m(\u001b[38;5;124m\"\u001b[39m\u001b[38;5;124mapple\u001b[39m\u001b[38;5;124m\"\u001b[39m)) \u001b[38;5;66;03m# fails\u001b[39;00m\n\u001b[0;32m      2\u001b[0m \u001b[38;5;28mprint\u001b[39m(\u001b[38;5;28mfloat\u001b[39m(\u001b[38;5;124m\"\u001b[39m\u001b[38;5;124m10\u001b[39m\u001b[38;5;124m\"\u001b[39m))\n",
      "\u001b[1;31mValueError\u001b[0m: could not convert string to float: 'apple'"
     ]
    }
   ],
   "source": [
    "print(float(\"apple\")) # fails\n",
    "print(float(\"10\"))    # works"
   ]
  },
  {
   "cell_type": "markdown",
   "id": "3df5a050-2d43-47fa-9887-00fefdb427bd",
   "metadata": {},
   "source": [
    "** Object not callabe **\n",
    "- Python magic\n",
    "- Either u need to open new notebook.\n",
    "- Or go to kernel and simly restart it."
   ]
  },
  {
   "cell_type": "code",
   "execution_count": 37,
   "id": "299f849d-d4c7-44f1-9cab-da9350d7af05",
   "metadata": {},
   "outputs": [
    {
     "name": "stdout",
     "output_type": "stream",
     "text": [
      "10.5\n",
      "True\n"
     ]
    },
    {
     "ename": "ValueError",
     "evalue": "invalid literal for int() with base 10: '10.5'",
     "output_type": "error",
     "traceback": [
      "\u001b[1;31m---------------------------------------------------------------------------\u001b[0m",
      "\u001b[1;31mValueError\u001b[0m                                Traceback (most recent call last)",
      "Cell \u001b[1;32mIn[37], line 4\u001b[0m\n\u001b[0;32m      2\u001b[0m \u001b[38;5;28mprint\u001b[39m(\u001b[38;5;28mfloat\u001b[39m (\u001b[38;5;124m'\u001b[39m\u001b[38;5;124m10.5\u001b[39m\u001b[38;5;124m'\u001b[39m)) \u001b[38;5;66;03m# Works\u001b[39;00m\n\u001b[0;32m      3\u001b[0m \u001b[38;5;28mprint\u001b[39m(\u001b[38;5;28mbool\u001b[39m(\u001b[38;5;124m'\u001b[39m\u001b[38;5;124m10.5\u001b[39m\u001b[38;5;124m'\u001b[39m))   \u001b[38;5;66;03m# works\u001b[39;00m\n\u001b[1;32m----> 4\u001b[0m \u001b[38;5;28mprint\u001b[39m(\u001b[38;5;28mint\u001b[39m(\u001b[38;5;124m'\u001b[39m\u001b[38;5;124m10.5\u001b[39m\u001b[38;5;124m'\u001b[39m))    \u001b[38;5;66;03m# fails\u001b[39;00m\n\u001b[0;32m      5\u001b[0m \u001b[38;5;28mprint\u001b[39m(\u001b[38;5;28mint\u001b[39m(\u001b[38;5;124m'\u001b[39m\u001b[38;5;124m10\u001b[39m\u001b[38;5;124m'\u001b[39m))\n",
      "\u001b[1;31mValueError\u001b[0m: invalid literal for int() with base 10: '10.5'"
     ]
    }
   ],
   "source": [
    "## Flaot is the boss\n",
    "print(float ('10.5')) # Works\n",
    "print(bool('10.5'))   # works\n",
    "print(int('10.5'))    # fails\n",
    "print(int('10'))      # works"
   ]
  },
  {
   "cell_type": "code",
   "execution_count": 39,
   "id": "a2d1f4fe-d50e-4226-995a-4961088ba55d",
   "metadata": {},
   "outputs": [
    {
     "name": "stdout",
     "output_type": "stream",
     "text": [
      "1\n",
      "1.0\n",
      "True\n",
      "0\n",
      "0.0\n",
      "False\n"
     ]
    }
   ],
   "source": [
    "## Boolean to other datatypes\n",
    "print(int(True))\n",
    "print(float(True))\n",
    "print(str(True))\n",
    "print(int(False))\n",
    "print(float(False))\n",
    "print(str(False))"
   ]
  },
  {
   "cell_type": "code",
   "execution_count": null,
   "id": "f6aa373b-b035-41ac-86ce-58f607524819",
   "metadata": {},
   "outputs": [],
   "source": [
    "print(float(10))    #10.0   \n",
    "print(str(10))      #'10'\n",
    "print(bool(10))     #True\n",
    "print(int(10.5))    #10\n",
    "print(str(10.5))    #'10.5'\n",
    "print(bool(10.5))   #True\n",
    "print(int('apple')) #Fail\n",
    "print(float('apple')) #Fail\n",
    "print(bool('apple')) #True\n",
    "print(int('10'))    #10\n",
    "print(float('10'))  #10.0\n",
    "print(bool('10'))   #True\n",
    "print(int('10.5'))  #Fails\n",
    "print(float('10.5')) #10.5\n",
    "print(bool('10.5')) # T\n",
    "print(int(True)) # 1\n",
    "print(int(False)) # 0\n",
    "print(float(True)) # 1.0\n",
    "print(float(False)) # 0.0\n",
    "print(str(True)) # 'True'\n",
    "print(str(False)) # 'False'\n",
    "print(bool(0))  # False\n",
    "print(bool(0.0)) # False\n",
    "print(bool(''))\n",
    "      "
   ]
  }
 ],
 "metadata": {
  "kernelspec": {
   "display_name": "Python 3 (ipykernel)",
   "language": "python",
   "name": "python3"
  },
  "language_info": {
   "codemirror_mode": {
    "name": "ipython",
    "version": 3
   },
   "file_extension": ".py",
   "mimetype": "text/x-python",
   "name": "python",
   "nbconvert_exporter": "python",
   "pygments_lexer": "ipython3",
   "version": "3.12.7"
  }
 },
 "nbformat": 4,
 "nbformat_minor": 5
}
