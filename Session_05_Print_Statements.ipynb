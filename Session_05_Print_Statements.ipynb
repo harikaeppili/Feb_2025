{
 "cells": [
  {
   "cell_type": "code",
   "execution_count": 1,
   "id": "e7cd7d25-a559-4099-b355-beda17f16117",
   "metadata": {},
   "outputs": [
    {
     "data": {
      "text/plain": [
       "20"
      ]
     },
     "execution_count": 1,
     "metadata": {},
     "output_type": "execute_result"
    }
   ],
   "source": [
    "a=10\n",
    "b=20\n",
    "a\n",
    "b"
   ]
  },
  {
   "cell_type": "code",
   "execution_count": 2,
   "id": "2de18cf5-b192-49fe-9b85-936be5eb5485",
   "metadata": {},
   "outputs": [
    {
     "name": "stdout",
     "output_type": "stream",
     "text": [
      "10\n",
      "20\n"
     ]
    }
   ],
   "source": [
    "a=10\n",
    "b=20\n",
    "print(a)\n",
    "print(b)"
   ]
  },
  {
   "cell_type": "code",
   "execution_count": 3,
   "id": "db7c257f-ae6b-4b51-84d5-a89fd051271c",
   "metadata": {},
   "outputs": [
    {
     "name": "stdout",
     "output_type": "stream",
     "text": [
      "10\n",
      "20\n"
     ]
    }
   ],
   "source": [
    "print(10)\n",
    "print(20)"
   ]
  },
  {
   "cell_type": "code",
   "execution_count": 4,
   "id": "dcb57cd5-01f7-4ed2-87f9-999e870b5713",
   "metadata": {},
   "outputs": [
    {
     "name": "stdout",
     "output_type": "stream",
     "text": [
      "10\n",
      "20\n"
     ]
    },
    {
     "data": {
      "text/plain": [
       "(None, None)"
      ]
     },
     "execution_count": 4,
     "metadata": {},
     "output_type": "execute_result"
    }
   ],
   "source": [
    "print(10), print(20)"
   ]
  },
  {
   "cell_type": "code",
   "execution_count": 5,
   "id": "bca53a02-624e-4cd2-a459-4112cf54a8d3",
   "metadata": {},
   "outputs": [
    {
     "data": {
      "text/plain": [
       "(10, 20)"
      ]
     },
     "execution_count": 5,
     "metadata": {},
     "output_type": "execute_result"
    }
   ],
   "source": [
    "10,20"
   ]
  },
  {
   "cell_type": "code",
   "execution_count": 6,
   "id": "88b24aad-c7eb-48de-b79c-b3d6275c3659",
   "metadata": {},
   "outputs": [
    {
     "name": "stdout",
     "output_type": "stream",
     "text": [
      "10 20\n"
     ]
    }
   ],
   "source": [
    "print(a,b)"
   ]
  },
  {
   "cell_type": "code",
   "execution_count": 7,
   "id": "0075a47e-f3fb-463c-958b-ed6e1904112c",
   "metadata": {},
   "outputs": [
    {
     "name": "stdout",
     "output_type": "stream",
     "text": [
      "30 Naresh IT HYD\n"
     ]
    }
   ],
   "source": [
    "print(30,'Naresh IT', 'HYD')"
   ]
  },
  {
   "cell_type": "code",
   "execution_count": 25,
   "id": "eab990e4-e254-45fd-86ba-258d9ef8301a",
   "metadata": {},
   "outputs": [
    {
     "name": "stdout",
     "output_type": "stream",
     "text": [
      "The addition of 1000 and 20 is 1020\n"
     ]
    }
   ],
   "source": [
    "num1= 1000\n",
    "num2=20\n",
    "add= num1+num2\n",
    "print(\"The addition of\", num1, \"and\" ,num2, \"is\", add)"
   ]
  },
  {
   "cell_type": "code",
   "execution_count": 16,
   "id": "1901b396-26a1-4cbb-9728-fe9cffd60c21",
   "metadata": {},
   "outputs": [
    {
     "name": "stdout",
     "output_type": "stream",
     "text": [
      "My name is Python I am 10 years old and came from HYD\n"
     ]
    }
   ],
   "source": [
    "name=\"Python\"\n",
    "age =10\n",
    "city = \"HYD\"\n",
    "print(\"My name is\", name,\"I am\", age, \"years old and came from\", city)"
   ]
  },
  {
   "cell_type": "markdown",
   "id": "6787cb58-d793-4353-b0a4-52f14d36deb2",
   "metadata": {},
   "source": [
    "#### Format Method"
   ]
  },
  {
   "cell_type": "code",
   "execution_count": 19,
   "id": "e392ae16-afc8-435c-95f1-ae3b2f035ddc",
   "metadata": {},
   "outputs": [
    {
     "name": "stdout",
     "output_type": "stream",
     "text": [
      "My name is Python. I am 10 years old and came from HYD\n"
     ]
    }
   ],
   "source": [
    "name=\"Python\"\n",
    "age =10\n",
    "city = \"HYD\"\n",
    "print(\"My name is {}. I am {} years old and came from {}\".format(name,age,city))"
   ]
  },
  {
   "cell_type": "code",
   "execution_count": 21,
   "id": "6e241c81-412e-4126-9834-019bc202e097",
   "metadata": {},
   "outputs": [
    {
     "name": "stdout",
     "output_type": "stream",
     "text": [
      "The addition of 1000 and 20 is 1020.\n"
     ]
    }
   ],
   "source": [
    "num1= 1000\n",
    "num2=20\n",
    "add= num1+num2\n",
    "print(\"The addition of {} and {} is {}.\".format(num1,num2,add))"
   ]
  },
  {
   "cell_type": "code",
   "execution_count": null,
   "id": "5f094c54-c6b4-45b0-9192-889e15469a95",
   "metadata": {},
   "outputs": [],
   "source": [
    "#WAP take two numbers perform the\n",
    "# subtraction\n",
    "# multiplication\n",
    "# division\n",
    "# print the statements as follows\n",
    "- The subtraction of 100 and 200 is-100.\n",
    "- The multiplication of 100 and 200 is 20000.\n",
    "- The division of 100 and 200 is 0.5."
   ]
  },
  {
   "cell_type": "code",
   "execution_count": 42,
   "id": "a88c37d2-725d-440c-8b80-b0f8347ec788",
   "metadata": {},
   "outputs": [
    {
     "name": "stdout",
     "output_type": "stream",
     "text": [
      "The addition of 100 and 200 is 300.\n",
      "The subtraction of 100 and 200 is -100.\n",
      "The multiplication of 100 and 200 is 20000.\n",
      "The division of 100 and 200 is 0.5.\n"
     ]
    }
   ],
   "source": [
    "num1= 100\n",
    "num2=200\n",
    "add = num1 +num2\n",
    "sub= num1-num2\n",
    "mul = num1*num2\n",
    "div = num1/num2\n",
    "print(\"The addition of {} and {} is {}.\".format(num1,num2,add))\n",
    "print(\"The subtraction of {} and {} is {}.\".format(num1,num2,sub))\n",
    "print(\"The multiplication of {} and {} is {}.\".format(num1,num2,mul))\n",
    "print(\"The division of {} and {} is {}.\".format(num1,num2,div))"
   ]
  },
  {
   "cell_type": "code",
   "execution_count": null,
   "id": "c40aa482-0595-4d08-a95b-b27724dec808",
   "metadata": {},
   "outputs": [],
   "source": [
    "# wap take three numbers perform the average\n",
    "#a,b,c\n",
    "# avg = (a+b+c)/3\n",
    "# print the statement\n",
    "# The average of a,b,c is :avg"
   ]
  },
  {
   "cell_type": "code",
   "execution_count": 39,
   "id": "e587c7ee-3b45-499d-874c-520fade7bc0b",
   "metadata": {},
   "outputs": [
    {
     "name": "stdout",
     "output_type": "stream",
     "text": [
      "The average of 15,50,20 is : 28.333333333333332\n"
     ]
    }
   ],
   "source": [
    "a=15\n",
    "b=50\n",
    "c=20\n",
    "avg = (a+b+c)/3\n",
    "print(\"The average of {},{},{} is : {}\".format(a,b,c,avg))"
   ]
  },
  {
   "cell_type": "markdown",
   "id": "56f26191-847c-4224-87ab-d6904f78d522",
   "metadata": {},
   "source": [
    "#### f-string method (Formatting Method String)"
   ]
  },
  {
   "cell_type": "code",
   "execution_count": 41,
   "id": "b42d8e3b-b6ab-4c52-8386-67d025d730d4",
   "metadata": {},
   "outputs": [
    {
     "name": "stdout",
     "output_type": "stream",
     "text": [
      "The addition of 100 and 200 is 300.\n",
      "The subtraction of 100 and 200 is -100.\n",
      "The multiplication of 100 and 200 is 20000.\n",
      "The division of 100 and 200 is 0.5.\n"
     ]
    }
   ],
   "source": [
    "num1= 100\n",
    "num2=200\n",
    "add= num1 +num2\n",
    "sub= num1-num2\n",
    "mul = num1*num2\n",
    "div = num1/num2\n",
    "print(f\"The addition of {num1} and {num2} is {add}.\")\n",
    "print(f\"The subtraction of {num1} and {num2} is {sub}.\")\n",
    "print(f\"The multiplication of {num1} and {num2} is {mul}.\")\n",
    "print(f\"The division of {num1} and {num2} is {div}.\")"
   ]
  },
  {
   "cell_type": "code",
   "execution_count": 44,
   "id": "5439a3cc-f92d-464e-8de9-948b1a4a2475",
   "metadata": {},
   "outputs": [
    {
     "name": "stdout",
     "output_type": "stream",
     "text": [
      "The average of 15,50,20 is : 28.333333333333332\n"
     ]
    }
   ],
   "source": [
    "a=15\n",
    "b=50\n",
    "c=20\n",
    "avg = (a+b+c)/3\n",
    "print(f\"The average of {a},{b},{c} is : {avg}\")"
   ]
  },
  {
   "cell_type": "markdown",
   "id": "18aba0cb-bdfc-46c7-bd4a-45c11dbcd4b8",
   "metadata": {},
   "source": [
    "#### Round"
   ]
  },
  {
   "cell_type": "code",
   "execution_count": null,
   "id": "c3fef604-19c2-4c3d-8fa2-011f627a4297",
   "metadata": {},
   "outputs": [],
   "source": [
    "# print()\n",
    "# type()\n",
    "# int()\n",
    "# str()\n",
    "# float()\n",
    "# bool()\n",
    "# round()\n",
    "# ctrl+A then ctrl+/"
   ]
  },
  {
   "cell_type": "code",
   "execution_count": 52,
   "id": "c274f008-78c9-4678-ba5d-61ce4e140c71",
   "metadata": {},
   "outputs": [
    {
     "name": "stdout",
     "output_type": "stream",
     "text": [
      "35\n",
      "34.6\n",
      "34.56\n",
      "34.556\n"
     ]
    }
   ],
   "source": [
    "print(round(34.55555))\n",
    "print(round(34.55555,1))\n",
    "print(round(34.55555,2))\n",
    "print(round(34.55555,3))"
   ]
  },
  {
   "cell_type": "code",
   "execution_count": 50,
   "id": "dfda0b3a-aefc-472b-a744-8fa3d74201be",
   "metadata": {},
   "outputs": [
    {
     "name": "stdout",
     "output_type": "stream",
     "text": [
      "28.3\n"
     ]
    }
   ],
   "source": [
    "a=15\n",
    "b=50\n",
    "c=20\n",
    "avg = (a+b+c)/3\n",
    "print(round(avg,1))"
   ]
  },
  {
   "cell_type": "markdown",
   "id": "1240581c-e1d0-4904-b22f-87af53a36885",
   "metadata": {},
   "source": [
    "** I have multiple print statements but want to show in one line **\n",
    "- We should use **end** operater"
   ]
  },
  {
   "cell_type": "markdown",
   "id": "7f8cb56a-42cc-41be-8848-2dce314c063a",
   "metadata": {},
   "source": [
    "### end"
   ]
  },
  {
   "cell_type": "code",
   "execution_count": 55,
   "id": "fe9ff317-1cc2-4096-9637-61094eb6d3b6",
   "metadata": {},
   "outputs": [
    {
     "name": "stdout",
     "output_type": "stream",
     "text": [
      "10 20\n"
     ]
    }
   ],
   "source": [
    "print(10, end=\" \")\n",
    "print(20)"
   ]
  },
  {
   "cell_type": "code",
   "execution_count": 56,
   "id": "b417cf85-1f75-47c9-890d-41493ef793ce",
   "metadata": {},
   "outputs": [
    {
     "name": "stdout",
     "output_type": "stream",
     "text": [
      "10 20 30\n"
     ]
    }
   ],
   "source": [
    "print(10, end=\" \")\n",
    "print(20, end = \" \")\n",
    "print(30)"
   ]
  },
  {
   "cell_type": "code",
   "execution_count": 57,
   "id": "67369014-c116-4f34-8f09-39dcc4cf6ea7",
   "metadata": {},
   "outputs": [
    {
     "name": "stdout",
     "output_type": "stream",
     "text": [
      "Hello! How are you ?\n"
     ]
    }
   ],
   "source": [
    "print(\"Hello!\", end =\" \")\n",
    "print(\"How\", end = \" \")\n",
    "print(\"are\", end = \" \")\n",
    "print(\"you ?\")"
   ]
  },
  {
   "cell_type": "markdown",
   "id": "b3840020-4eab-44f5-b756-28c2df417517",
   "metadata": {},
   "source": [
    "** I have multiple values in a single print statements **\n",
    "** I want to print them with some seperation **\n",
    "- We use seperator opetator in this case."
   ]
  },
  {
   "cell_type": "code",
   "execution_count": 58,
   "id": "d3614ddc-f332-47b1-a84f-01c4714100d7",
   "metadata": {},
   "outputs": [
    {
     "name": "stdout",
     "output_type": "stream",
     "text": [
      "10 20 30\n"
     ]
    }
   ],
   "source": [
    "print(10,20,30)"
   ]
  },
  {
   "cell_type": "markdown",
   "id": "dd73e2aa-f08c-45be-a474-907ad51e4b99",
   "metadata": {},
   "source": [
    "### Sep"
   ]
  },
  {
   "cell_type": "code",
   "execution_count": 59,
   "id": "1a5f1074-1f55-4311-9fea-544543ab5320",
   "metadata": {},
   "outputs": [
    {
     "name": "stdout",
     "output_type": "stream",
     "text": [
      "10===>20===>30\n"
     ]
    }
   ],
   "source": [
    "print(10,20,30,sep = \"===>\")"
   ]
  },
  {
   "cell_type": "code",
   "execution_count": null,
   "id": "8ebad06d-aaed-44e9-be23-fe4eeae08438",
   "metadata": {},
   "outputs": [],
   "source": [
    "# wap take the radius of a circle, Calculate the area of the circle.\n",
    "# Var : radius, var : pi = 3.14\n",
    "# Formula : pi*radius*radius\n",
    "# Print the answers using f-string and formatting string."
   ]
  },
  {
   "cell_type": "code",
   "execution_count": 5,
   "id": "45803d90-2b1c-4f56-93fd-bd9435db18ce",
   "metadata": {},
   "outputs": [
    {
     "name": "stdout",
     "output_type": "stream",
     "text": [
      "The area of the circle is 78.5.\n",
      "The area of the Circle is 78.5\n",
      "The area of the Circle is 78.5.\n"
     ]
    }
   ],
   "source": [
    "radius = 5\n",
    "pi = 3.14\n",
    "area = pi*radius*radius\n",
    "print(\"The area of the circle is {}.\".format(area))\n",
    "print(\"The area of the Circle is\",area)\n",
    "print(f\"The area of the Circle is {area}.\")"
   ]
  },
  {
   "cell_type": "code",
   "execution_count": null,
   "id": "63b84311-87f2-4483-8d35-aee79d235e66",
   "metadata": {},
   "outputs": [],
   "source": [
    "# Wap take the breadth and height of a right angle triangle\n",
    "# calculate the atea \n",
    "# var1:breadth,  var2: height\n",
    "# Formula : 0.5*breadth*height"
   ]
  },
  {
   "cell_type": "code",
   "execution_count": 3,
   "id": "0a04d757-a0a5-42df-afe1-d16f87a4054f",
   "metadata": {},
   "outputs": [
    {
     "name": "stdout",
     "output_type": "stream",
     "text": [
      "The area of a right angled triangle is 300.0.\n",
      "The area of a right angled triangle is 300.0\n",
      "The area of a right angled triangle is 300.0\n"
     ]
    }
   ],
   "source": [
    "breadth = 30\n",
    "height = 20\n",
    "area = 0.5*breadth*height\n",
    "print(\"The area of a right angled triangle is {}.\".format(area))\n",
    "print(\"The area of a right angled triangle is\",area)\n",
    "print(f\"The area of a right angled triangle is {area}\")"
   ]
  },
  {
   "cell_type": "code",
   "execution_count": null,
   "id": "d4d08dbe-285c-45c4-ac1a-d3767ed89362",
   "metadata": {},
   "outputs": [],
   "source": [
    "#wap take the bill amount and tip amount\n",
    "# calculate total bill\n",
    "# var1: bill amount var2: tip amount\n",
    "# Formula"
   ]
  },
  {
   "cell_type": "code",
   "execution_count": 6,
   "id": "6a99fe6f-21cb-448a-8328-01afed62c577",
   "metadata": {},
   "outputs": [
    {
     "name": "stdout",
     "output_type": "stream",
     "text": [
      "The total_bill is 6050.\n",
      "The total_bill is 6050\n",
      "The total_bill is 6050\n"
     ]
    }
   ],
   "source": [
    "bill_amount = 6000\n",
    "tip_amount = 50\n",
    "total_bill = bill_amount + tip_amount\n",
    "print(\"The total_bill is {}.\".format(total_bill))\n",
    "print(\"The total_bill is\",total_bill)\n",
    "print(f\"The total_bill is {total_bill}\")"
   ]
  },
  {
   "cell_type": "code",
   "execution_count": null,
   "id": "b866585e-5ef6-4239-b0a1-775432640384",
   "metadata": {},
   "outputs": [],
   "source": [
    "#wap take the length and breadth of a rectangle. Calculate Area\n",
    "#var1: length var2:breadth\n",
    "#formula: lenght*breadth"
   ]
  },
  {
   "cell_type": "code",
   "execution_count": 4,
   "id": "2e59052d-4bd9-402e-9dec-99d4c3c060a1",
   "metadata": {},
   "outputs": [
    {
     "name": "stdout",
     "output_type": "stream",
     "text": [
      "The area of the rectangle is 600.\n",
      "The area of the rectangle is 600\n",
      "The area of the rectangle is 600\n"
     ]
    }
   ],
   "source": [
    "length = 30\n",
    "breadth = 20\n",
    "area = length*breadth\n",
    "print(\"The area of the rectangle is {}.\".format(area))\n",
    "print(\"The area of the rectangle is\",area)\n",
    "print(f\"The area of the rectangle is {area}\")"
   ]
  },
  {
   "cell_type": "markdown",
   "id": "261f03c4-6701-480c-ba0d-84de1c7d8b37",
   "metadata": {},
   "source": [
    "### Input\n",
    "- In the above, we provided the values.\n",
    "- **input** is the inbuilt function.\n",
    "- Using **input**, thr user can provide any value."
   ]
  },
  {
   "cell_type": "code",
   "execution_count": 7,
   "id": "f0bb305b-55ce-41b0-a88b-7b217c8c7644",
   "metadata": {},
   "outputs": [
    {
     "data": {
      "text/plain": [
       "<bound method Kernel.raw_input of <ipykernel.ipkernel.IPythonKernel object at 0x0000012EC26EF8F0>>"
      ]
     },
     "execution_count": 7,
     "metadata": {},
     "output_type": "execute_result"
    }
   ],
   "source": [
    "input"
   ]
  },
  {
   "cell_type": "markdown",
   "id": "ef95c4b3-5fd9-468e-9258-f185c28839e9",
   "metadata": {},
   "source": [
    "### Note:\n",
    "Whenever if we see bound method or function, this indicates that we forgot the the brackets."
   ]
  },
  {
   "cell_type": "code",
   "execution_count": 8,
   "id": "3e256e58-7812-4b1d-8f28-d119f16d67e9",
   "metadata": {},
   "outputs": [
    {
     "name": "stdin",
     "output_type": "stream",
     "text": [
      " 34\n"
     ]
    },
    {
     "data": {
      "text/plain": [
       "'34'"
      ]
     },
     "execution_count": 8,
     "metadata": {},
     "output_type": "execute_result"
    }
   ],
   "source": [
    "input()"
   ]
  },
  {
   "cell_type": "code",
   "execution_count": 9,
   "id": "e74c4519-2be0-424b-89a0-2fa22ac573c1",
   "metadata": {},
   "outputs": [
    {
     "name": "stdin",
     "output_type": "stream",
     "text": [
      " Python\n"
     ]
    },
    {
     "data": {
      "text/plain": [
       "'Python'"
      ]
     },
     "execution_count": 9,
     "metadata": {},
     "output_type": "execute_result"
    }
   ],
   "source": [
    "input()"
   ]
  },
  {
   "cell_type": "code",
   "execution_count": 11,
   "id": "44970ef5-d9e9-4246-a2b2-efc15a2ffcae",
   "metadata": {},
   "outputs": [
    {
     "name": "stdin",
     "output_type": "stream",
     "text": [
      " 200\n"
     ]
    }
   ],
   "source": [
    "a = input()"
   ]
  },
  {
   "cell_type": "code",
   "execution_count": 12,
   "id": "3ecddd31-1266-4c8a-b7b3-e7b855cf43ce",
   "metadata": {},
   "outputs": [
    {
     "name": "stdout",
     "output_type": "stream",
     "text": [
      "200\n"
     ]
    },
    {
     "data": {
      "text/plain": [
       "str"
      ]
     },
     "execution_count": 12,
     "metadata": {},
     "output_type": "execute_result"
    }
   ],
   "source": [
    "print(a)\n",
    "type(a)"
   ]
  },
  {
   "cell_type": "code",
   "execution_count": 13,
   "id": "38fd9ad0-628a-4297-9fd5-7d13279c3960",
   "metadata": {},
   "outputs": [
    {
     "name": "stdin",
     "output_type": "stream",
     "text": [
      " Notebook\n"
     ]
    }
   ],
   "source": [
    "b= input()"
   ]
  },
  {
   "cell_type": "code",
   "execution_count": 14,
   "id": "177223e0-9e2c-4bc0-994e-c3a59fee5fe6",
   "metadata": {},
   "outputs": [
    {
     "name": "stdout",
     "output_type": "stream",
     "text": [
      "Notebook\n"
     ]
    },
    {
     "data": {
      "text/plain": [
       "str"
      ]
     },
     "execution_count": 14,
     "metadata": {},
     "output_type": "execute_result"
    }
   ],
   "source": [
    "print(b)\n",
    "type(b)"
   ]
  },
  {
   "cell_type": "code",
   "execution_count": 15,
   "id": "0f9e28b2-41b9-4192-9eba-3c43c9f98208",
   "metadata": {},
   "outputs": [
    {
     "name": "stdin",
     "output_type": "stream",
     "text": [
      " 100\n",
      " 200\n",
      " 300\n"
     ]
    }
   ],
   "source": [
    "n1=input()\n",
    "n2=input()\n",
    "n3= input()"
   ]
  },
  {
   "cell_type": "code",
   "execution_count": 16,
   "id": "b1847fc5-92dd-48cb-be80-ebbcc1e30275",
   "metadata": {},
   "outputs": [
    {
     "data": {
      "text/plain": [
       "('100', '200', '300')"
      ]
     },
     "execution_count": 16,
     "metadata": {},
     "output_type": "execute_result"
    }
   ],
   "source": [
    "n1, n2, n3"
   ]
  },
  {
   "cell_type": "code",
   "execution_count": 25,
   "id": "f6a12bff-df37-41e5-a013-1d49aca30864",
   "metadata": {},
   "outputs": [
    {
     "name": "stdin",
     "output_type": "stream",
     "text": [
      "enter the number1: 100\n",
      "enter the number2: 200\n",
      "enter the number3: 300\n"
     ]
    },
    {
     "data": {
      "text/plain": [
       "'100200'"
      ]
     },
     "execution_count": 25,
     "metadata": {},
     "output_type": "execute_result"
    }
   ],
   "source": [
    "n1=input(\"enter the number1:\")\n",
    "n2=input(\"enter the number2:\")\n",
    "n3=input(\"enter the number3:\")\n",
    "n1+n2"
   ]
  },
  {
   "cell_type": "code",
   "execution_count": 18,
   "id": "5de30615-4e77-4eea-a367-809b7779f912",
   "metadata": {},
   "outputs": [
    {
     "data": {
      "text/plain": [
       "('100', '200', '300')"
      ]
     },
     "execution_count": 18,
     "metadata": {},
     "output_type": "execute_result"
    }
   ],
   "source": [
    "n1,n2,n3"
   ]
  },
  {
   "cell_type": "code",
   "execution_count": 27,
   "id": "8bc767e4-7e3c-4427-876c-6045210081d8",
   "metadata": {},
   "outputs": [
    {
     "data": {
      "text/plain": [
       "'100200300'"
      ]
     },
     "execution_count": 27,
     "metadata": {},
     "output_type": "execute_result"
    }
   ],
   "source": [
    "n1+n2+n3"
   ]
  },
  {
   "cell_type": "markdown",
   "id": "6cfa59d3-f86e-47d3-a77e-08585417a1f7",
   "metadata": {},
   "source": [
    "- **input** values are default string type."
   ]
  },
  {
   "cell_type": "code",
   "execution_count": 21,
   "id": "1c3b90aa-de45-4f47-97bb-3e840d73bf49",
   "metadata": {},
   "outputs": [
    {
     "name": "stdin",
     "output_type": "stream",
     "text": [
      "enter the number1: 100\n",
      "enter the number2: 200\n",
      "enter the number3: 300\n"
     ]
    }
   ],
   "source": [
    "n1=int(input(\"enter the number1:\"))\n",
    "n2=int(input(\"enter the number2:\"))\n",
    "n3=int(input(\"enter the number3:\"))"
   ]
  },
  {
   "cell_type": "code",
   "execution_count": 23,
   "id": "9a9a0e94-bff5-4418-82cc-0f57fd0c2675",
   "metadata": {},
   "outputs": [
    {
     "data": {
      "text/plain": [
       "600"
      ]
     },
     "execution_count": 23,
     "metadata": {},
     "output_type": "execute_result"
    }
   ],
   "source": [
    "n1+n2+n3"
   ]
  },
  {
   "cell_type": "code",
   "execution_count": 32,
   "id": "11bd3844-f665-42be-9632-6c7cf4828661",
   "metadata": {},
   "outputs": [
    {
     "name": "stdin",
     "output_type": "stream",
     "text": [
      "enter the str1: Apple \n",
      "enter the str2: is\n",
      "enter the str3: fruit\n"
     ]
    },
    {
     "data": {
      "text/plain": [
       "'Apple isfruit'"
      ]
     },
     "execution_count": 32,
     "metadata": {},
     "output_type": "execute_result"
    }
   ],
   "source": [
    "str1 = input(\"enter the str1:\")\n",
    "str2 = input(\"enter the str2:\")\n",
    "str3 = input(\"enter the str3:\")\n",
    "str1 + str2 + str3"
   ]
  },
  {
   "cell_type": "code",
   "execution_count": 33,
   "id": "8b832bc5-8822-471c-8173-047fdf60f836",
   "metadata": {},
   "outputs": [
    {
     "name": "stdin",
     "output_type": "stream",
     "text": [
      "enter the number1: 100\n",
      "enter the number2: 200\n",
      "enter the number3: 300\n"
     ]
    },
    {
     "data": {
      "text/plain": [
       "600"
      ]
     },
     "execution_count": 33,
     "metadata": {},
     "output_type": "execute_result"
    }
   ],
   "source": [
    "n1=input(\"enter the number1:\")\n",
    "n2=input(\"enter the number2:\")\n",
    "n3=input(\"enter the number3:\")\n",
    "int(n1)+int(n2)+int(n3)"
   ]
  },
  {
   "cell_type": "markdown",
   "id": "8d8d1537-7e82-4f3a-81f0-0ede10318e52",
   "metadata": {},
   "source": [
    "#### Eval\n",
    "- eval means evaluate.\n",
    "- It is related to math family.\n",
    "- Which means it work only number represent as strings.\n",
    "- It will not works on english letters.\n",
    "- Eval will convert the respective data type which is user input.\n",
    "- If user enter 10 in quotes, it will convert into 10.\n",
    "- If user enter 10.5 in quotes, it will convert into 10.5."
   ]
  },
  {
   "cell_type": "code",
   "execution_count": null,
   "id": "440d1d40-2eb9-4581-bf59-aa5c6b92983a",
   "metadata": {},
   "outputs": [],
   "source": [
    "int('10')   # 10\n",
    "int('10.5') # Error\n",
    "\n",
    "float('10')   #10.0\n",
    "float('10.5') #10.5"
   ]
  },
  {
   "cell_type": "code",
   "execution_count": 34,
   "id": "e999edaa-c654-4980-b1bf-f8dbbfa69736",
   "metadata": {},
   "outputs": [
    {
     "data": {
      "text/plain": [
       "(10, 10.5)"
      ]
     },
     "execution_count": 34,
     "metadata": {},
     "output_type": "execute_result"
    }
   ],
   "source": [
    "eval('10'), eval('10.5')"
   ]
  },
  {
   "cell_type": "code",
   "execution_count": 35,
   "id": "ed969cf9-f09f-4706-94a4-98d01b1f6412",
   "metadata": {},
   "outputs": [
    {
     "name": "stdin",
     "output_type": "stream",
     "text": [
      "enter the number1: 100\n",
      "enter the number2: 200\n",
      "enter the number3: 300\n"
     ]
    },
    {
     "data": {
      "text/plain": [
       "600"
      ]
     },
     "execution_count": 35,
     "metadata": {},
     "output_type": "execute_result"
    }
   ],
   "source": [
    "n1=eval(input(\"enter the number1:\"))\n",
    "n2=eval(input(\"enter the number2:\"))\n",
    "n3=eval(input(\"enter the number3:\"))\n",
    "n1+n2+n3"
   ]
  },
  {
   "cell_type": "code",
   "execution_count": null,
   "id": "278a94c5-9548-4eb3-9ba1-3147ad68d750",
   "metadata": {},
   "outputs": [],
   "source": [
    "# 1)wap ask the user enter 3 numbers n1,n2,n3 from keyboard\n",
    "# calculate average."
   ]
  },
  {
   "cell_type": "code",
   "execution_count": 38,
   "id": "2d53629b-b818-4d90-b2a6-67fcdd6a719f",
   "metadata": {},
   "outputs": [
    {
     "name": "stdin",
     "output_type": "stream",
     "text": [
      "enter the number1: 23\n",
      "enter the number2: 34\n",
      "enter the number3: 45\n"
     ]
    },
    {
     "name": "stdout",
     "output_type": "stream",
     "text": [
      "34.0\n"
     ]
    }
   ],
   "source": [
    "n1=eval(input(\"enter the number1:\"))\n",
    "n2=eval(input(\"enter the number2:\"))\n",
    "n3=eval(input(\"enter the number3:\"))\n",
    "print((n1+n2+n3)/3)"
   ]
  },
  {
   "cell_type": "code",
   "execution_count": null,
   "id": "0a339eed-eb5d-4217-893c-3c11117c6ec9",
   "metadata": {},
   "outputs": [],
   "source": [
    "# 2)wap ask the user enter name age city\n",
    "# print my name is python im 10 years old and came from hyd"
   ]
  },
  {
   "cell_type": "code",
   "execution_count": 43,
   "id": "61677191-b359-4456-ad60-49dd97769dd9",
   "metadata": {},
   "outputs": [
    {
     "name": "stdin",
     "output_type": "stream",
     "text": [
      "enter the name: Python\n",
      "enter the age: 10\n",
      "enter the city: Hyderabad\n"
     ]
    },
    {
     "name": "stdout",
     "output_type": "stream",
     "text": [
      "My name is Python, I am 10 years old and came from Hyderabad.\n"
     ]
    }
   ],
   "source": [
    "name = input(\"enter the name:\")\n",
    "age= eval(input(\"enter the age:\"))\n",
    "city =input(\"enter the city:\")\n",
    "print(f\"My name is {name}, I am {age} years old and came from {city}.\")"
   ]
  },
  {
   "cell_type": "code",
   "execution_count": null,
   "id": "6bd088f2-2011-4259-96e1-4ac32462181a",
   "metadata": {},
   "outputs": [],
   "source": [
    "# 3)wap ask the user to enter radidus of a circle calculate area of the circle\n",
    "# var: radidus  var: pi=3.14\n",
    "# formuale: pi*radius*radius\n",
    "# print the answers using f string and format"
   ]
  },
  {
   "cell_type": "code",
   "execution_count": 1,
   "id": "4dec8992-ad22-433f-aa4e-27368a42cdde",
   "metadata": {},
   "outputs": [
    {
     "name": "stdin",
     "output_type": "stream",
     "text": [
      "Enter the  radius: 4.8\n"
     ]
    },
    {
     "name": "stdout",
     "output_type": "stream",
     "text": [
      "The area of the circle is 72.34559999999999.\n",
      "The area of the Circle is 72.34559999999999\n",
      "The area of the Circle is 72.34559999999999.\n"
     ]
    }
   ],
   "source": [
    "radius = eval(input(\"Enter the  radius:\"))\n",
    "pi = 3.14\n",
    "area = pi*radius*radius\n",
    "print(\"The area of the circle is {}.\".format(area))\n",
    "print(\"The area of the Circle is\",area)\n",
    "print(f\"The area of the Circle is {area}.\")"
   ]
  },
  {
   "cell_type": "code",
   "execution_count": null,
   "id": "cf0db3af-3208-46b6-910f-49422ee75836",
   "metadata": {},
   "outputs": [],
   "source": [
    "# 4)wap ask the user enter breadth and height of a right angle triangle\n",
    "# calculate the area\n",
    "# var1: bredath  var2: height\n",
    "# formuale : 0.5*breadth*heigh"
   ]
  },
  {
   "cell_type": "code",
   "execution_count": 2,
   "id": "b15c6a99-e997-4411-815d-3d8a8ea66b17",
   "metadata": {},
   "outputs": [
    {
     "name": "stdin",
     "output_type": "stream",
     "text": [
      "Enter the breadth: 6.9\n",
      "Enter the height: 7\n"
     ]
    },
    {
     "name": "stdout",
     "output_type": "stream",
     "text": [
      "The area of a right angled triangle is 24.150000000000002.\n",
      "The area of a right angled triangle is 24.150000000000002\n",
      "The area of a right angled triangle is 24.150000000000002\n"
     ]
    }
   ],
   "source": [
    "breadth = eval(input(\"Enter the breadth:\"))\n",
    "height = eval(input(\"Enter the height:\"))\n",
    "area = 0.5*breadth*height\n",
    "print(\"The area of a right angled triangle is {}.\".format(area))\n",
    "print(\"The area of a right angled triangle is\",area)\n",
    "print(f\"The area of a right angled triangle is {area}\")"
   ]
  },
  {
   "cell_type": "code",
   "execution_count": null,
   "id": "83c04c69-b9df-43f3-9375-49bdf9e72044",
   "metadata": {},
   "outputs": [],
   "source": [
    "# 5)wap ask the user the bill amount and tip amount\n",
    "#   calculate total bill\n",
    "#   var1: bill amount var2: tip amount\n",
    "#   formuale"
   ]
  },
  {
   "cell_type": "code",
   "execution_count": 3,
   "id": "e37d09f2-5e3b-45f2-8b92-c96d7c8a4466",
   "metadata": {},
   "outputs": [
    {
     "name": "stdin",
     "output_type": "stream",
     "text": [
      "Enter the bill_amount: 12000\n",
      "Enter the tip_amount: 50\n"
     ]
    },
    {
     "name": "stdout",
     "output_type": "stream",
     "text": [
      "The total_bill is 12050.\n",
      "The total_bill is 12050\n",
      "The total_bill is 12050\n"
     ]
    }
   ],
   "source": [
    "bill_amount = eval(input(\"Enter the bill_amount:\"))\n",
    "tip_amount = eval(input(\"Enter the tip_amount:\"))\n",
    "total_bill = bill_amount + tip_amount\n",
    "print(\"The total_bill is {}.\".format(total_bill))\n",
    "print(\"The total_bill is\",total_bill)\n",
    "print(f\"The total_bill is {total_bill}\")"
   ]
  },
  {
   "cell_type": "code",
   "execution_count": null,
   "id": "cefa72fb-2cb7-4742-9485-fe2fdd10407a",
   "metadata": {},
   "outputs": [],
   "source": [
    "# 6)wap ask the user the bill amount and tip percentage\n",
    "#    take tip percentage as 10\n",
    "#   calculate total bill= bill amount+ bill amount*tip per/100\n",
    "#   var1: bill amount var2: tip amount\n",
    "#    formuale"
   ]
  },
  {
   "cell_type": "code",
   "execution_count": 4,
   "id": "b9b630b9-2282-4d0f-9a6f-17777f11445d",
   "metadata": {},
   "outputs": [
    {
     "name": "stdin",
     "output_type": "stream",
     "text": [
      "Enter the bill_amount: 6000\n",
      "Enter the tip_amount: 20\n",
      "Enter the tip_percentage: 10\n"
     ]
    },
    {
     "name": "stdout",
     "output_type": "stream",
     "text": [
      "The total_bill is 6002.0.\n",
      "The total_bill is 6002.0\n",
      "The total_bill is 6002.0\n"
     ]
    }
   ],
   "source": [
    "bill_amount = eval(input(\"Enter the bill_amount:\"))\n",
    "tip_amount = eval(input(\"Enter the tip_amount:\"))\n",
    "tip_percentage = eval(input(\"Enter the tip_percentage:\"))\n",
    "total_bill = bill_amount + tip_amount*tip_percentage/100\n",
    "print(\"The total_bill is {}.\".format(total_bill))\n",
    "print(\"The total_bill is\",total_bill)\n",
    "print(f\"The total_bill is {total_bill}\")"
   ]
  },
  {
   "cell_type": "code",
   "execution_count": null,
   "id": "da149004-ba9e-44d9-a74b-84bf21fa4266",
   "metadata": {},
   "outputs": [],
   "source": [
    "# 7)wap ask the length and breadth of a rectangle calculate area\n",
    "#   var1: length  var2: breadth\n",
    "#   formulae: length * breadth"
   ]
  },
  {
   "cell_type": "code",
   "execution_count": 6,
   "id": "b741ec42-dbf9-4ce0-8c80-90d26c1fbde4",
   "metadata": {},
   "outputs": [
    {
     "name": "stdin",
     "output_type": "stream",
     "text": [
      "Enter length: 45\n",
      "Enter breadth: 20\n"
     ]
    },
    {
     "name": "stdout",
     "output_type": "stream",
     "text": [
      "The area of the rectangle is 900.\n",
      "The area of the rectangle is 900\n",
      "The area of the rectangle is 900\n"
     ]
    }
   ],
   "source": [
    "length = eval(input(\"Enter length:\"))\n",
    "breadth = eval(input(\"Enter breadth:\"))\n",
    "area = length*breadth\n",
    "print(\"The area of the rectangle is {}.\".format(area))\n",
    "print(\"The area of the rectangle is\",area)\n",
    "print(f\"The area of the rectangle is {area}\")"
   ]
  },
  {
   "cell_type": "code",
   "execution_count": null,
   "id": "dd02d01b-18f4-4aaa-9a5d-ca410c0d4be7",
   "metadata": {},
   "outputs": [],
   "source": [
    "# 8) wap ask the user take the radius and calculate volume of sphere\n",
    "#   formulae: pi*r**3(pi*r*r*r)"
   ]
  },
  {
   "cell_type": "code",
   "execution_count": 10,
   "id": "18ce7e07-f165-46a4-8e9e-bdaa957a4fe4",
   "metadata": {},
   "outputs": [
    {
     "name": "stdin",
     "output_type": "stream",
     "text": [
      "Enter the radius: 7\n"
     ]
    },
    {
     "name": "stdout",
     "output_type": "stream",
     "text": [
      "The volume of the sphere is 1436.0266666666666.\n",
      "The volume of the sphere is 1436.0266666666666\n",
      "The volume of the sphere is 1436.0266666666666\n"
     ]
    }
   ],
   "source": [
    "radius = eval(input(\"Enter the radius:\"))\n",
    "pi=3.14\n",
    "volume_of_the_sphere = (4*(pi*radius*radius*radius))/3\n",
    "print(\"The volume of the sphere is {}.\".format(volume_of_the_sphere))\n",
    "print(\"The volume of the sphere is\", volume_of_the_sphere)\n",
    "print(f\"The volume of the sphere is {volume_of_the_sphere}\")"
   ]
  },
  {
   "cell_type": "code",
   "execution_count": null,
   "id": "5057417a-f899-48ab-a50c-e35d7ae60c0b",
   "metadata": {},
   "outputs": [],
   "source": [
    "# 9) wap ask the user enter amount in dollars convert into rupees\n",
    "#     1$=85rs"
   ]
  },
  {
   "cell_type": "code",
   "execution_count": 15,
   "id": "cfe8e3c4-1c6e-4a80-a7f6-12ec7b0d3cf3",
   "metadata": {},
   "outputs": [
    {
     "name": "stdin",
     "output_type": "stream",
     "text": [
      "Enter the amount: 100\n"
     ]
    },
    {
     "name": "stdout",
     "output_type": "stream",
     "text": [
      "8500\n"
     ]
    }
   ],
   "source": [
    "dollar_amount = eval(input(\"Enter the amount:\"))\n",
    "rupees = dollar_amount*85\n",
    "print(rupees)"
   ]
  },
  {
   "cell_type": "code",
   "execution_count": null,
   "id": "774b04df-ade3-4053-84a2-d8d47288c9ef",
   "metadata": {},
   "outputs": [],
   "source": [
    "# 10)wap ask the user enter weight in kgs convert into pounds\n",
    "#    1kg= 2.2pounds"
   ]
  },
  {
   "cell_type": "code",
   "execution_count": 17,
   "id": "a7cdc406-bc85-4f67-918f-b0bba96c6860",
   "metadata": {},
   "outputs": [
    {
     "name": "stdin",
     "output_type": "stream",
     "text": [
      "Enter the weight: 25\n"
     ]
    },
    {
     "name": "stdout",
     "output_type": "stream",
     "text": [
      "55.00000000000001\n"
     ]
    }
   ],
   "source": [
    "weight_in_kgs=eval(input(\"Enter the weight:\"))\n",
    "weight_in_pounds = weight_in_kgs*2.2\n",
    "print(weight_in_pounds)"
   ]
  },
  {
   "cell_type": "code",
   "execution_count": null,
   "id": "23a85b2f-b14b-42e4-b24c-313e9401841d",
   "metadata": {},
   "outputs": [],
   "source": []
  }
 ],
 "metadata": {
  "kernelspec": {
   "display_name": "Python 3 (ipykernel)",
   "language": "python",
   "name": "python3"
  },
  "language_info": {
   "codemirror_mode": {
    "name": "ipython",
    "version": 3
   },
   "file_extension": ".py",
   "mimetype": "text/x-python",
   "name": "python",
   "nbconvert_exporter": "python",
   "pygments_lexer": "ipython3",
   "version": "3.12.7"
  }
 },
 "nbformat": 4,
 "nbformat_minor": 5
}
