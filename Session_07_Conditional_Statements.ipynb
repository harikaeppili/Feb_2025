{
 "cells": [
  {
   "cell_type": "markdown",
   "id": "874f8ca0-0607-41a8-a4a7-7fca0e4a52fb",
   "metadata": {},
   "source": [
    "# Conditional Statements\n",
    "- Conditional Statements are used to execute the code baesd on some condition.\n",
    "- Assume a statement:\n",
    "   - If rain comes, I will stay at hostel.\n",
    "   - If rain comes, I will stay at hostel otherwise, I will go play cricket.\n",
    "   - If rain comes, I will stay at hostel otherwise, I will go to ground but if Omkhar Sir calls, I will go to class."
   ]
  },
  {
   "cell_type": "code",
   "execution_count": null,
   "id": "992ce39c-3123-4ea4-b4b8-2243379e8700",
   "metadata": {},
   "outputs": [],
   "source": [
    "#### Syntax:\n",
    "if<condition>:\n",
    "    #write your code here.\n",
    "# Whatever, the condition is True\n",
    "# Then, Python will go inside theif block, then the code will be executed. "
   ]
  },
  {
   "cell_type": "code",
   "execution_count": 5,
   "id": "934b79b6-aa10-43bd-af1c-3e443689473d",
   "metadata": {},
   "outputs": [
    {
     "name": "stdout",
     "output_type": "stream",
     "text": [
      "True\n",
      "False\n",
      "False\n",
      "True\n",
      "True\n"
     ]
    }
   ],
   "source": [
    "num=10\n",
    "print(num==10)\n",
    "print(num>10)\n",
    "print(num<10)\n",
    "print(num>=10)\n",
    "print(num<=10)"
   ]
  },
  {
   "cell_type": "markdown",
   "id": "4fb050b7-d0b5-4665-bc1b-d37a1cb1f6cf",
   "metadata": {},
   "source": [
    "Case : if-else\n",
    "- If condition is true, then if statements will execute.\n",
    "- If condition is False, then else statements will execute.\n",
    "- One condition two outputs.\n",
    "- If block needs condition but not else block."
   ]
  },
  {
   "cell_type": "code",
   "execution_count": null,
   "id": "cb456fbb-d7f3-4c7c-ad95-33c010745ec0",
   "metadata": {},
   "outputs": [],
   "source": [
    "## Syntax:\n",
    "if <condition>:\n",
    "    <write your code here>\n",
    "else :\n",
    "    <write your code here>"
   ]
  },
  {
   "cell_type": "code",
   "execution_count": 1,
   "id": "c29613de-c7d0-4249-ba59-a9faeea95938",
   "metadata": {},
   "outputs": [
    {
     "name": "stdout",
     "output_type": "stream",
     "text": [
      "Positive number\n"
     ]
    }
   ],
   "source": [
    "if 100>0:\n",
    "    print(\"Positive number\")\n",
    "else:\n",
    "    print(\"Negativ number\")"
   ]
  },
  {
   "cell_type": "code",
   "execution_count": 2,
   "id": "c20a21a9-9793-4ec3-b5bf-4d47acf7adab",
   "metadata": {},
   "outputs": [
    {
     "name": "stdout",
     "output_type": "stream",
     "text": [
      "100 is a Positive number\n"
     ]
    }
   ],
   "source": [
    "n=100\n",
    "if 100>0:\n",
    "    print(f\"{n} is a Positive number\")\n",
    "else:\n",
    "    print(f\"{n} is a Negative number\")"
   ]
  },
  {
   "cell_type": "code",
   "execution_count": 5,
   "id": "0a364c3a-f419-4d90-b801-fc3f152ebb75",
   "metadata": {},
   "outputs": [
    {
     "name": "stdin",
     "output_type": "stream",
     "text": [
      "Enter the number: -56\n"
     ]
    },
    {
     "name": "stdout",
     "output_type": "stream",
     "text": [
      "-56 is a Negative number\n"
     ]
    }
   ],
   "source": [
    "n=eval(input(\"Enter the number:\"))\n",
    "if n>0:\n",
    "    print(f\"{n} is a Positive number\")\n",
    "else:\n",
    "    print(f\"{n} is a Negative number\")"
   ]
  },
  {
   "cell_type": "code",
   "execution_count": 10,
   "id": "ec3c71d7-ad6c-4353-b3f1-ba2f63ce7a60",
   "metadata": {},
   "outputs": [
    {
     "name": "stdout",
     "output_type": "stream",
     "text": [
      "-178 is a Negative number\n"
     ]
    }
   ],
   "source": [
    "import random \n",
    "n=random.randint(-200,200)\n",
    "if n>0:\n",
    "    print(f\"{n} is a Positive number\")\n",
    "else:\n",
    "    print(f\"{n} is a Negative number\")"
   ]
  },
  {
   "cell_type": "code",
   "execution_count": 11,
   "id": "29addce6-4a77-4a1a-abd7-dc395427ff93",
   "metadata": {},
   "outputs": [
    {
     "ename": "SyntaxError",
     "evalue": "invalid syntax (3888164525.py, line 6)",
     "output_type": "error",
     "traceback": [
      "\u001b[1;36m  Cell \u001b[1;32mIn[11], line 6\u001b[1;36m\u001b[0m\n\u001b[1;33m    else:\u001b[0m\n\u001b[1;37m    ^\u001b[0m\n\u001b[1;31mSyntaxError\u001b[0m\u001b[1;31m:\u001b[0m invalid syntax\n"
     ]
    }
   ],
   "source": [
    "print(\"Hello\")\n",
    "if 100>0:\n",
    "    print(\"Positive number\")\n",
    "    print(\"Condition is True\")\n",
    "print(\" Why are you in the middle ?\")\n",
    "else:\n",
    "    print(\"Negative number\")\n",
    "    print(\"Condition is False\")\n",
    "print(\"Bye\")\n",
    "\n",
    "## if-else should come together"
   ]
  },
  {
   "cell_type": "code",
   "execution_count": null,
   "id": "02f1216a-1886-4555-a9d7-5b112b65956c",
   "metadata": {},
   "outputs": [],
   "source": [
    "# wap ask the user enter two numbers\n",
    "# find the greatest number."
   ]
  },
  {
   "cell_type": "code",
   "execution_count": 13,
   "id": "659206b6-6e5a-49b5-a5a3-088934c73631",
   "metadata": {},
   "outputs": [
    {
     "name": "stdin",
     "output_type": "stream",
     "text": [
      "Enter the number1: 34\n",
      "Enter the number2: 2\n"
     ]
    },
    {
     "name": "stdout",
     "output_type": "stream",
     "text": [
      "34 is the greatest number\n"
     ]
    }
   ],
   "source": [
    "n1 = eval(input(\"Enter the number1:\"))\n",
    "n2 = eval(input(\"Enter the number2:\"))\n",
    "if n1>n2:\n",
    "    print(f\"{n1} is the greatest number\")\n",
    "else:\n",
    "    print(f\"{n2} is the greatest number\")"
   ]
  },
  {
   "cell_type": "code",
   "execution_count": 15,
   "id": "2fc1f911-ba29-475c-a1c5-34013266d51a",
   "metadata": {},
   "outputs": [
    {
     "name": "stdout",
     "output_type": "stream",
     "text": [
      "n1:226 is the greatest number\n"
     ]
    }
   ],
   "source": [
    "n1 =random.randint(1,300)\n",
    "n2 = random.randint(1,200)\n",
    "if n1>n2:\n",
    "    print(f\"n1:{n1} is the greatest number\")\n",
    "else:\n",
    "    print(f\"n2:{n2} is the greatest number\")"
   ]
  },
  {
   "cell_type": "code",
   "execution_count": null,
   "id": "c82363d7-63a8-428d-8510-d9dc227a5d6d",
   "metadata": {},
   "outputs": [],
   "source": [
    "#wap ask the user enter distance\n",
    "# if distance greater than 25km\n",
    "# then ask the charge per km.\n",
    "# Then calculate total charge.\n",
    "# Otherwise print free ride."
   ]
  },
  {
   "cell_type": "code",
   "execution_count": 18,
   "id": "b6df16b2-c72d-4382-a94e-97ba38c21543",
   "metadata": {},
   "outputs": [
    {
     "name": "stdin",
     "output_type": "stream",
     "text": [
      "Enter the distance: 7\n"
     ]
    },
    {
     "name": "stdout",
     "output_type": "stream",
     "text": [
      "Free ride\n"
     ]
    }
   ],
   "source": [
    "distance = eval(input(\"Enter the distance:\"))\n",
    "if distance>25:\n",
    "    charge_per_km = eval(input(\"Enter the charge:\"))\n",
    "    total_charge = charge_per_km*distance\n",
    "    print(f\"Total_charge is {total_charge}\")\n",
    "else:\n",
    "    print(\"Free ride\")"
   ]
  },
  {
   "cell_type": "code",
   "execution_count": null,
   "id": "5b1aed05-ae97-471c-9f3a-5aeaf92b191b",
   "metadata": {},
   "outputs": [],
   "source": [
    "#wap ask the user enter distance\n",
    "# Enter the free distance(assume that 25 km)\n",
    "# if distance greater than 25km\n",
    "# then ask the charge per km.\n",
    "# distance_covered = dostance-free_distance\n",
    "# Then calculate total charge.\n",
    "# Otherwise print free ride."
   ]
  },
  {
   "cell_type": "code",
   "execution_count": 22,
   "id": "f0e2fc78-620d-4578-a4c7-e60e16519597",
   "metadata": {},
   "outputs": [
    {
     "name": "stdin",
     "output_type": "stream",
     "text": [
      "Enter the distance: 100\n",
      "Enter the free_distance: 50\n",
      "Enter the charge: 20\n"
     ]
    },
    {
     "name": "stdout",
     "output_type": "stream",
     "text": [
      "Total distance is 50\n",
      "Total_charge is 1000INR\n"
     ]
    }
   ],
   "source": [
    "distance = eval(input(\"Enter the distance:\"))\n",
    "free_distance = eval(input(\"Enter the free_distance:\")) \n",
    "if distance>free_distance:\n",
    "    charge_per_km = eval(input(\"Enter the charge:\"))\n",
    "    total_distance = distance-free_distance\n",
    "    print(f\"Total distance is {total_distance}\")\n",
    "    total_charge = charge_per_km*total_distance\n",
    "    print(f\"Total_charge is {total_charge}INR\")\n",
    "else:\n",
    "    print(\"Free ride\")"
   ]
  },
  {
   "cell_type": "code",
   "execution_count": null,
   "id": "66808bb8-f10d-4b76-97e8-11ae72fa6b4d",
   "metadata": {},
   "outputs": [],
   "source": [
    "# wap ask the user enter the number from keyboard n1\n",
    "# Ask the user get a random number between 1,10 n2\n",
    "# if n1 equal to n2 print you won\n",
    "# otherwise print lost"
   ]
  },
  {
   "cell_type": "code",
   "execution_count": 24,
   "id": "bdc71a07-a202-41d8-b603-25f513b86b71",
   "metadata": {},
   "outputs": [
    {
     "name": "stdin",
     "output_type": "stream",
     "text": [
      "Enter the number1: 4\n"
     ]
    },
    {
     "name": "stdout",
     "output_type": "stream",
     "text": [
      "Hurrah! You Won!\n"
     ]
    }
   ],
   "source": [
    "n1 = eval(input(\"Enter the number1:\"))\n",
    "n=random.randint(1,10)\n",
    "if n1==n2:\n",
    "    print(\"Hurrah! You Won!\")\n",
    "else:\n",
    "    print(\"Better Luck, Next time\")"
   ]
  },
  {
   "cell_type": "code",
   "execution_count": 31,
   "id": "b8613d1b-75e0-4b0c-8481-0b40d1e04b49",
   "metadata": {},
   "outputs": [
    {
     "name": "stdin",
     "output_type": "stream",
     "text": [
      "Enter the course name: data_science\n",
      "Enter the institute name: naresh_it\n"
     ]
    },
    {
     "name": "stdout",
     "output_type": "stream",
     "text": [
      "You are at a safe place\n"
     ]
    }
   ],
   "source": [
    "course_name = input(\"Enter the course name:\")\n",
    "institute_name = input(\"Enter the institute name:\")\n",
    "if ((course_name=='data_science') and (institute_name =='naresh_it')):\n",
    "    print(\"You are at a safe place\")\n",
    "else:\n",
    "    print(\"Katham, Zindhagi\")"
   ]
  },
  {
   "cell_type": "code",
   "execution_count": 33,
   "id": "edda309a-609e-4780-9de3-642bd8ed2446",
   "metadata": {},
   "outputs": [
    {
     "name": "stdin",
     "output_type": "stream",
     "text": [
      "Enter the course name: rty\n",
      "Enter the institute name: naresh_it\n"
     ]
    },
    {
     "name": "stdout",
     "output_type": "stream",
     "text": [
      "You are at a safe place\n"
     ]
    }
   ],
   "source": [
    "course_name = input(\"Enter the course name:\")\n",
    "institute_name = input(\"Enter the institute name:\")\n",
    "if ((course_name=='data_science') or (institute_name =='naresh_it')):\n",
    "    print(\"You are at a safe place\")\n",
    "else:\n",
    "    print(\"Katham, Zindhagi\")"
   ]
  },
  {
   "cell_type": "code",
   "execution_count": null,
   "id": "2d52696b-0ebe-49b4-88a2-5e8902561945",
   "metadata": {},
   "outputs": [],
   "source": [
    "# wap ask the user to enter the number\n",
    "# if reminder is equal to 0, then print even number."
   ]
  },
  {
   "cell_type": "code",
   "execution_count": 36,
   "id": "054c0715-24fc-498c-a4e2-2ab03cf9ac1e",
   "metadata": {},
   "outputs": [
    {
     "name": "stdin",
     "output_type": "stream",
     "text": [
      "Enter the number: 8\n"
     ]
    },
    {
     "name": "stdout",
     "output_type": "stream",
     "text": [
      "8 is a even number\n"
     ]
    }
   ],
   "source": [
    "n = eval(input(\"Enter the number:\"))\n",
    "if n%2==0:\n",
    "    print(f\"{n} is a even number\")\n",
    "else:\n",
    "    print(f\"{n} is a odd number\")"
   ]
  },
  {
   "cell_type": "markdown",
   "id": "b7115aa9-c273-4bd7-8aa5-f782d1b3cd4f",
   "metadata": {},
   "source": [
    "Case-3:if-elif-else:\n",
    "- Whenever, we have multiple conditions, we will do **if-elif-else**\n",
    "- If single conditionis there,we will go **if-else**\n",
    "    - two answers\n",
    "    - if needs condition, then else does not require any condition.\n",
    "- If two conditionis there,we will go **if-elif-else**\n",
    "    - three answers\n",
    "    - if and elif needs condition, then else does not require any condition.    \n",
    "- If three conditionis there,we will go **if-elif-elif-else**\n",
    "    - four answers\n",
    "    - if,elif and elif needs condition, then else does not require any condition."
   ]
  },
  {
   "cell_type": "code",
   "execution_count": null,
   "id": "1a677495-c717-4854-aded-7080ce564198",
   "metadata": {},
   "outputs": [],
   "source": [
    "## Syntax:\n",
    "if <condition>:\n",
    "    <write your code here>\n",
    "elif <condition>:\n",
    "    <write your code here>\n",
    "elif <condition>:\n",
    "    <write your code here>\n",
    "else:\n",
    "    <write your code here>"
   ]
  },
  {
   "cell_type": "code",
   "execution_count": null,
   "id": "5f6ac731-b144-4d4c-914f-deb1b332bc65",
   "metadata": {},
   "outputs": [],
   "source": [
    "## wap"
   ]
  },
  {
   "cell_type": "code",
   "execution_count": 4,
   "id": "309a7cf7-8ae4-42b5-b08b-5bbbdd0c8e94",
   "metadata": {},
   "outputs": [
    {
     "name": "stdin",
     "output_type": "stream",
     "text": [
      "Enter the number : 5\n"
     ]
    },
    {
     "name": "stdout",
     "output_type": "stream",
     "text": [
      "Enter a valid number\n"
     ]
    }
   ],
   "source": [
    "n = eval(input(\"Enter the number :\"))\n",
    "if n==1:\n",
    "    print(f\"The number is : {n}\")\n",
    "elif n==2:\n",
    "    print(f\"The number is : {n}\")\n",
    "elif n==3:\n",
    "    print(f\"The number is : {n}\")\n",
    "else:\n",
    "    print(\"Enter a valid number\")"
   ]
  },
  {
   "cell_type": "code",
   "execution_count": 16,
   "id": "e5d23ab6-f4d5-43d4-957d-ebf3171ba6f2",
   "metadata": {},
   "outputs": [
    {
     "name": "stdout",
     "output_type": "stream",
     "text": [
      "2\n",
      "The number is : 2\n"
     ]
    }
   ],
   "source": [
    "import random\n",
    "n = random.randint(1,5)\n",
    "print(n)\n",
    "if n==1:\n",
    "    print(f\"The number is : {n}\")\n",
    "elif n==2:\n",
    "    print(f\"The number is : {n}\")\n",
    "elif n==3:\n",
    "    print(f\"The number is : {n}\")\n",
    "else:\n",
    "    print(\"Enter a valid number\")"
   ]
  },
  {
   "cell_type": "code",
   "execution_count": 38,
   "id": "fd0bd8f9-9d88-46ca-87d5-75e36743b596",
   "metadata": {},
   "outputs": [],
   "source": [
    "# wap "
   ]
  },
  {
   "cell_type": "code",
   "execution_count": 39,
   "id": "b73b555a-118f-447d-9cec-9b263b4913e2",
   "metadata": {},
   "outputs": [
    {
     "name": "stdin",
     "output_type": "stream",
     "text": [
      "Enter the marks: 98\n"
     ]
    },
    {
     "name": "stdout",
     "output_type": "stream",
     "text": [
      "A grade\n"
     ]
    }
   ],
   "source": [
    "marks = eval(input(\"Enter the marks:\"))\n",
    "if marks>90:\n",
    "    print(\"A grade\")\n",
    "elif marks>=70:\n",
    "    print(\"B grade\")\n",
    "elif marks>=50:\n",
    "    print(\"C grade\")\n",
    "elif marks>=35:\n",
    "    print(\"D grade\")\n",
    "else:\n",
    "    print(\"Fail\")"
   ]
  },
  {
   "cell_type": "code",
   "execution_count": null,
   "id": "e5067111-19c0-441c-b391-ce42536cfa47",
   "metadata": {},
   "outputs": [],
   "source": [
    "## wap ask the user"
   ]
  },
  {
   "cell_type": "code",
   "execution_count": 46,
   "id": "77e13472-78e3-486e-8b9c-d628f01abea5",
   "metadata": {},
   "outputs": [
    {
     "name": "stdin",
     "output_type": "stream",
     "text": [
      "Enter the age: 12\n"
     ]
    },
    {
     "name": "stdout",
     "output_type": "stream",
     "text": [
      "Teenage\n"
     ]
    }
   ],
   "source": [
    "age = eval(input(\"Enter the age:\"))\n",
    "if age>100:\n",
    "    print(\"Unlucky\")\n",
    "elif age>=80:\n",
    "    print(\"Old guy\")\n",
    "elif age>=60:\n",
    "    print(\"Senoior Citizen\")\n",
    "elif age>=40:\n",
    "    print(\"Middle Age\")\n",
    "elif age>=20:\n",
    "    print(\"Young\")\n",
    "elif age>=10:\n",
    "    print(\"Teenage\")\n",
    "else:\n",
    "    print(\"Kid\")"
   ]
  },
  {
   "cell_type": "code",
   "execution_count": null,
   "id": "a1a45bee-d144-41e2-82c9-5e80e37db0c1",
   "metadata": {},
   "outputs": [],
   "source": []
  },
  {
   "cell_type": "code",
   "execution_count": 57,
   "id": "e227c49e-c65c-4f23-a866-afa9841a6ba5",
   "metadata": {},
   "outputs": [
    {
     "name": "stdin",
     "output_type": "stream",
     "text": [
      "Enter the gender female\n",
      "Enter the age 15\n"
     ]
    },
    {
     "name": "stdout",
     "output_type": "stream",
     "text": [
      "Young girl\n"
     ]
    }
   ],
   "source": [
    "gender = input(\"Enter the gender\")\n",
    "if gender==\"male\":\n",
    "    age = eval(input(\"Enter the age\"))\n",
    "    if age>60:\n",
    "        print(\"Senoir Citizen\")\n",
    "    elif age>=30:\n",
    "        print(\"Middle age man\")\n",
    "    elif age>=15:\n",
    "        print(\"Young man\")\n",
    "    else:\n",
    "        print(\"Boy\")\n",
    "elif gender==\"female\":\n",
    "    age = eval(input(\"Enter the age\"))\n",
    "    if age>60:\n",
    "        print(\"Senoir Citizen\")\n",
    "    elif age>=30:\n",
    "        print(\"Middle age woman\")\n",
    "    elif age>=15:\n",
    "        print(\"Young girl\")\n",
    "    else:\n",
    "        print(\"Girl\")\n",
    "else:\n",
    "    print(\"Enter a valid gender\")"
   ]
  },
  {
   "cell_type": "code",
   "execution_count": null,
   "id": "752f2188-2f8d-425d-9ec0-bec47e5caafb",
   "metadata": {},
   "outputs": [],
   "source": []
  },
  {
   "cell_type": "code",
   "execution_count": 62,
   "id": "48445ba0-d0ea-4e38-ac3a-71ecf8c51ecf",
   "metadata": {},
   "outputs": [
    {
     "name": "stdin",
     "output_type": "stream",
     "text": [
      "Enter the number 42\n"
     ]
    },
    {
     "name": "stdout",
     "output_type": "stream",
     "text": [
      "Positive number\n"
     ]
    }
   ],
   "source": [
    "num = eval(input(\"Enter the number\"))\n",
    "if num>=0:\n",
    "    if num>0:\n",
    "        print(\"Positive number\")\n",
    "    else:\n",
    "        print(\"Zero\")\n",
    "else:\n",
    "    print(\"Negative number\")"
   ]
  },
  {
   "cell_type": "code",
   "execution_count": null,
   "id": "412f7c18-826d-440f-969a-1d180d00bab2",
   "metadata": {},
   "outputs": [],
   "source": []
  },
  {
   "cell_type": "code",
   "execution_count": 68,
   "id": "d8d918de-088f-416e-bab5-50b502e48545",
   "metadata": {},
   "outputs": [
    {
     "name": "stdin",
     "output_type": "stream",
     "text": [
      "Enter the number: op2\n"
     ]
    },
    {
     "name": "stdout",
     "output_type": "stream",
     "text": [
      "*****Subtraction*****\n"
     ]
    },
    {
     "name": "stdin",
     "output_type": "stream",
     "text": [
      "Enter the number: 450\n",
      "Enter the number: 200\n"
     ]
    },
    {
     "name": "stdout",
     "output_type": "stream",
     "text": [
      "250\n"
     ]
    }
   ],
   "source": [
    "op1 = \"Addition\"\n",
    "op2 = \"Subtraction\"\n",
    "op3 = \"Multiplication\"\n",
    "op4 = \"Division\"\n",
    "operation = eval(input(\"Enter the number:\"))\n",
    "if operation==op1:\n",
    "    print(\"*****Addition*****\")\n",
    "    n1=eval(input(\"Enter the number:\"))\n",
    "    n2=eval(input(\"Enter the number:\"))\n",
    "    add = n1+n2\n",
    "    print(add)\n",
    "elif operation==op2:\n",
    "    print(\"*****Subtraction*****\")\n",
    "    n1=eval(input(\"Enter the number:\"))\n",
    "    n2=eval(input(\"Enter the number:\"))\n",
    "    sub = n1-n2\n",
    "    print(sub)\n",
    "elif operation==op3:\n",
    "    print(\"*****Multiplication*****\")\n",
    "    n1=eval(input(\"Enter the number:\"))\n",
    "    n2=eval(input(\"Enter the number:\"))\n",
    "    mul = n1*n2\n",
    "    print(mul)\n",
    "elif operation==op4:\n",
    "    print(\"*****Division*****\")\n",
    "    n1=eval(input(\"Enter the number:\"))\n",
    "    n2=eval(input(\"Enter the number:\"))\n",
    "    div = n1/n2\n",
    "    print(div)\n",
    "else:\n",
    "    print(\"Print proper operation\")\n",
    "    \n",
    "    "
   ]
  },
  {
   "cell_type": "code",
   "execution_count": null,
   "id": "7df1e10d-1787-4e96-b0d5-f214ba6197ad",
   "metadata": {},
   "outputs": [],
   "source": []
  }
 ],
 "metadata": {
  "kernelspec": {
   "display_name": "Python 3 (ipykernel)",
   "language": "python",
   "name": "python3"
  },
  "language_info": {
   "codemirror_mode": {
    "name": "ipython",
    "version": 3
   },
   "file_extension": ".py",
   "mimetype": "text/x-python",
   "name": "python",
   "nbconvert_exporter": "python",
   "pygments_lexer": "ipython3",
   "version": "3.12.7"
  }
 },
 "nbformat": 4,
 "nbformat_minor": 5
}
