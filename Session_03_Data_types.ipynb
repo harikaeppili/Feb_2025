{
 "cells": [
  {
   "cell_type": "markdown",
   "id": "66a5fe08-13b9-4e34-9f9f-e6a995db99df",
   "metadata": {},
   "source": [
    "## Data Types"
   ]
  },
  {
   "cell_type": "markdown",
   "id": "f1b40aab-69f7-415c-afc1-32dadf06aff6",
   "metadata": {},
   "source": [
    "- interger : int\n",
    "- float \n",
    "- string\n",
    "- list\n",
    "- tuple\n",
    "- set\n",
    "- frozen set\n",
    "- dictionary\n",
    "- bool\n",
    "- complex\n",
    "- range\n",
    "- byte\n",
    "- byte array\n",
    "- memory view\n",
    "- None type\n",
    "\n"
   ]
  },
  {
   "cell_type": "markdown",
   "id": "274911de-2753-4ad0-b341-08cff957487c",
   "metadata": {},
   "source": [
    "# Myth\n",
    "- Only 14-15 data types are available but fact is there are vast data types in python"
   ]
  },
  {
   "cell_type": "markdown",
   "id": "3c7ec01a-6c61-401d-ac8e-4a1069664e3e",
   "metadata": {},
   "source": [
    "#### Integer :"
   ]
  },
  {
   "cell_type": "code",
   "execution_count": 1,
   "id": "bc3e2e49-c116-455d-b5a7-43c10c9f985f",
   "metadata": {},
   "outputs": [
    {
     "data": {
      "text/plain": [
       "100"
      ]
     },
     "execution_count": 1,
     "metadata": {},
     "output_type": "execute_result"
    }
   ],
   "source": [
    "number = 100\n",
    "number "
   ]
  },
  {
   "cell_type": "code",
   "execution_count": 2,
   "id": "6be27832-452c-436b-9129-cdc0c324dc80",
   "metadata": {},
   "outputs": [
    {
     "data": {
      "text/plain": [
       "int"
      ]
     },
     "execution_count": 2,
     "metadata": {},
     "output_type": "execute_result"
    }
   ],
   "source": [
    "type(number)"
   ]
  },
  {
   "cell_type": "markdown",
   "id": "f32a58d7-2ebf-4851-93c3-cd832aba5265",
   "metadata": {},
   "source": [
    "#### Number System :\n",
    "- Binary Number System\n",
    "- Decimal Number System\n",
    "- Octal Number Sysstem\n",
    "- Hexa Number System"
   ]
  },
  {
   "cell_type": "markdown",
   "id": "ea948b69-2f0c-493c-b8a0-c7a6d840c50b",
   "metadata": {},
   "source": [
    "** Binary Number System **\n",
    "- It is denoted with **0b** or **0B**\n",
    "- Binary means two\n",
    "- We have generally 0 to 9 digits available.\n",
    "- Binary means only two digits allowed : 0 and 1\n",
    "- EX: 0b101, 0b111, 0b000, 0B001 (valid)\n",
    "      0b123, 0B1000012 (invalid)"
   ]
  },
  {
   "cell_type": "code",
   "execution_count": 3,
   "id": "7367015e-437f-455e-87a5-7ccd4e76ad15",
   "metadata": {},
   "outputs": [
    {
     "data": {
      "text/plain": [
       "11"
      ]
     },
     "execution_count": 3,
     "metadata": {},
     "output_type": "execute_result"
    }
   ],
   "source": [
    "0b1011"
   ]
  },
  {
   "cell_type": "code",
   "execution_count": 4,
   "id": "3528d477-def2-44e4-997a-32683b28b13f",
   "metadata": {},
   "outputs": [
    {
     "data": {
      "text/plain": [
       "29"
      ]
     },
     "execution_count": 4,
     "metadata": {},
     "output_type": "execute_result"
    }
   ],
   "source": [
    "0b11101"
   ]
  },
  {
   "cell_type": "code",
   "execution_count": 5,
   "id": "5b693a9d-3dd3-41ea-b014-149f824ad1fc",
   "metadata": {},
   "outputs": [
    {
     "data": {
      "text/plain": [
       "7"
      ]
     },
     "execution_count": 5,
     "metadata": {},
     "output_type": "execute_result"
    }
   ],
   "source": [
    "0b111"
   ]
  },
  {
   "cell_type": "code",
   "execution_count": 6,
   "id": "e9bc5369-4140-4b09-abeb-51a842f41358",
   "metadata": {},
   "outputs": [
    {
     "data": {
      "text/plain": [
       "11"
      ]
     },
     "execution_count": 6,
     "metadata": {},
     "output_type": "execute_result"
    }
   ],
   "source": [
    "0b01011"
   ]
  },
  {
   "cell_type": "code",
   "execution_count": null,
   "id": "1a55564b-363f-4665-a559-2820356ef29f",
   "metadata": {},
   "outputs": [],
   "source": [
    "2^2  2^1  2^0  \n",
    " 4    2    1\n",
    "########################\n",
    " 0    0    0     0\n",
    " 0    0    1     1\n",
    " 0    1    0     2\n",
    " 0    1    1     3\n",
    " 1    0    0     4\n",
    " 1    0    1     5\n",
    " 1    1    0     6\n",
    " 1    1    1     7"
   ]
  },
  {
   "cell_type": "code",
   "execution_count": null,
   "id": "89457f63-c8b7-460b-b7d6-c989113bc8d6",
   "metadata": {},
   "outputs": [],
   "source": [
    "2^3  2^2  2^1  2^0  \n",
    " 8     4    2    1\n",
    "########################\n",
    " 0     0    0    0     0\n",
    " 0     0    0    1     1\n",
    " 0     0    1    0     2\n",
    " 0     0    1    1     3\n",
    " 0     1    0    0     4\n",
    " 0     1    0    1     5\n",
    " 0     1    1    0     6\n",
    " 0     1    1    1     7\n",
    " 1     0    0    0     8\n",
    " 1     0    0    1     9\n",
    " 1     0    1    0     10\n",
    " 1     0    1    1     11\n",
    " 1     1    0    0     12\n",
    " 1     1    0    1     13\n",
    " 1     1    1    0     14\n",
    " 1     1    1    1     15\n"
   ]
  },
  {
   "cell_type": "markdown",
   "id": "2a1ec233-0b1d-439a-bd25-1132ea898f6f",
   "metadata": {},
   "source": [
    "** Octal Number System **\n",
    "- It is denoted with **0o** or **0O**\n",
    "- Octa means 8\n",
    "- We have generally 0 to 9 digits available.\n",
    "- Octa means only eight digits allowed : 0,1,2,3,4,5,6,7\n",
    "- EX: 0o567, 0o111, 0o000, 0o627 (valid)\n",
    "      00765, 00169 (not valid)"
   ]
  },
  {
   "cell_type": "code",
   "execution_count": 9,
   "id": "e91462b7-063c-4d34-bac3-7064ad925db7",
   "metadata": {},
   "outputs": [
    {
     "data": {
      "text/plain": [
       "375"
      ]
     },
     "execution_count": 9,
     "metadata": {},
     "output_type": "execute_result"
    }
   ],
   "source": [
    "0o567"
   ]
  },
  {
   "cell_type": "markdown",
   "id": "b0cc0685-1c3b-4b24-96cb-d2c1b420fc6a",
   "metadata": {},
   "source": [
    "** Hexa Number System **\n",
    "\n",
    "- It is denoted with **0x** or **0X**\n",
    "- Hexa means 16\n",
    "- We have generally 0 to 9 digits  and A to F alphabets available.\n",
    "- Hexa means only 16  digits allowed : 0,1,2,3,4,5,6,7,8 and A,B,C,D,E,F\n",
    "- A:10, B:11, C:12, D:13, E:14, F:15\n",
    "- EX: 0xabc, 0XA1 (valid) \n",
    "      0xefg (not valid)"
   ]
  },
  {
   "cell_type": "code",
   "execution_count": 1,
   "id": "11ec0757-6277-4088-abf9-dc95f99e4ff4",
   "metadata": {},
   "outputs": [
    {
     "data": {
      "text/plain": [
       "2748"
      ]
     },
     "execution_count": 1,
     "metadata": {},
     "output_type": "execute_result"
    }
   ],
   "source": [
    "0xabc"
   ]
  },
  {
   "cell_type": "markdown",
   "id": "65a4955e-f19a-4f63-8689-8613fe0521c4",
   "metadata": {},
   "source": [
    "#write 2025 in binary, octa and hexa number systems"
   ]
  },
  {
   "cell_type": "code",
   "execution_count": null,
   "id": "032b3324-a2c5-4d52-b690-18c49e638dce",
   "metadata": {},
   "outputs": [],
   "source": []
  },
  {
   "cell_type": "markdown",
   "id": "cdf808a0-f28e-425c-99af-9fbe655e91c5",
   "metadata": {},
   "source": [
    "#### Float"
   ]
  },
  {
   "cell_type": "code",
   "execution_count": 3,
   "id": "c2a9cbf5-6994-483f-b68a-fce950869f86",
   "metadata": {},
   "outputs": [
    {
     "data": {
      "text/plain": [
       "float"
      ]
     },
     "execution_count": 3,
     "metadata": {},
     "output_type": "execute_result"
    }
   ],
   "source": [
    "number= 10.5\n",
    "type(number)"
   ]
  },
  {
   "cell_type": "markdown",
   "id": "fe10f95d-7813-4c4f-8aa4-7c1ac72b80f4",
   "metadata": {},
   "source": [
    "** Exponentional Number System **"
   ]
  },
  {
   "cell_type": "code",
   "execution_count": null,
   "id": "b50af7bf-1fc7-4eab-85f2-7157b85e7e78",
   "metadata": {},
   "outputs": [],
   "source": [
    "1e1  # 1*10 =10\n",
    "1e2  # 1*100 = 100\n",
    "2e3  # 2*1000 = 1000\n",
    "4e4  # 4*10000 = 40000"
   ]
  },
  {
   "cell_type": "code",
   "execution_count": 12,
   "id": "b414b57b-2226-450b-a2be-26e432d07946",
   "metadata": {},
   "outputs": [
    {
     "name": "stdout",
     "output_type": "stream",
     "text": [
      "10.0\n",
      "100.0\n",
      "2000.0\n",
      "40000.0\n"
     ]
    }
   ],
   "source": [
    "print(1e+1)  # 1*10 =10\n",
    "print(1e+2)  # 1*100 = 100\n",
    "print(2e+3)  # 1*1000 = 1000\n",
    "print(4e+4)  # 4*10000 = 40000"
   ]
  },
  {
   "cell_type": "code",
   "execution_count": 14,
   "id": "6cebb0b2-bd41-4e87-82c1-1ad8d01a5711",
   "metadata": {},
   "outputs": [
    {
     "name": "stdout",
     "output_type": "stream",
     "text": [
      "0.1\n",
      "0.01\n",
      "0.002\n",
      "0.0004\n"
     ]
    }
   ],
   "source": [
    "print(1e-1) \n",
    "print(1e-2)  \n",
    "print(2e-3)  \n",
    "print(4e-4)  "
   ]
  },
  {
   "cell_type": "markdown",
   "id": "a992a5c0-4d9f-4801-b2c1-3db57bbf7b4f",
   "metadata": {},
   "source": [
    "** Boolean**"
   ]
  },
  {
   "cell_type": "code",
   "execution_count": 2,
   "id": "a4d75b13-a63c-4837-9873-2f64e8ec01d7",
   "metadata": {},
   "outputs": [
    {
     "data": {
      "text/plain": [
       "True"
      ]
     },
     "execution_count": 2,
     "metadata": {},
     "output_type": "execute_result"
    }
   ],
   "source": [
    "val= True\n",
    "val"
   ]
  },
  {
   "cell_type": "code",
   "execution_count": 3,
   "id": "82440c4e-210c-4b81-8924-2fa0a9f98e12",
   "metadata": {},
   "outputs": [
    {
     "data": {
      "text/plain": [
       "bool"
      ]
     },
     "execution_count": 3,
     "metadata": {},
     "output_type": "execute_result"
    }
   ],
   "source": [
    "type(val)"
   ]
  },
  {
   "cell_type": "code",
   "execution_count": 4,
   "id": "6dfd2a31-c0d3-4193-a8eb-75a01484b9c4",
   "metadata": {},
   "outputs": [
    {
     "data": {
      "text/plain": [
       "bool"
      ]
     },
     "execution_count": 4,
     "metadata": {},
     "output_type": "execute_result"
    }
   ],
   "source": [
    "val=False\n",
    "type(val)"
   ]
  },
  {
   "cell_type": "markdown",
   "id": "f87a0364-bd7f-4065-b0c1-c2e467025bb3",
   "metadata": {},
   "source": [
    "** Strings **\n",
    "\n",
    "- English format representation.\n",
    "- Strings represent with quotes.\n",
    "- WE can use single quotes, double quotes and also triple quotes."
   ]
  },
  {
   "cell_type": "code",
   "execution_count": 13,
   "id": "5c79ee08-287f-4fa8-a64f-9cf54282e74c",
   "metadata": {},
   "outputs": [
    {
     "data": {
      "text/plain": [
       "'PYTHON'"
      ]
     },
     "execution_count": 13,
     "metadata": {},
     "output_type": "execute_result"
    }
   ],
   "source": [
    "name =\"PYTHON\"\n",
    "name\n",
    "# But the output is displayed in single quotes."
   ]
  },
  {
   "cell_type": "code",
   "execution_count": 7,
   "id": "90ad718a-843b-485e-b817-71de7453fc88",
   "metadata": {},
   "outputs": [
    {
     "data": {
      "text/plain": [
       "str"
      ]
     },
     "execution_count": 7,
     "metadata": {},
     "output_type": "execute_result"
    }
   ],
   "source": [
    "val='10'\n",
    "type(val)"
   ]
  },
  {
   "cell_type": "code",
   "execution_count": 9,
   "id": "1e84207d-5b6b-42fc-a4c3-6bba5107791c",
   "metadata": {},
   "outputs": [
    {
     "data": {
      "text/plain": [
       "int"
      ]
     },
     "execution_count": 9,
     "metadata": {},
     "output_type": "execute_result"
    }
   ],
   "source": [
    "val = 10\n",
    "type(val)"
   ]
  },
  {
   "cell_type": "code",
   "execution_count": 17,
   "id": "7acaabf6-b4f3-4b71-a983-8fea3467063e",
   "metadata": {},
   "outputs": [
    {
     "name": "stdout",
     "output_type": "stream",
     "text": [
      "I love 'Python'\n"
     ]
    }
   ],
   "source": [
    "a=\"I love 'Python'\"\n",
    "print(a)"
   ]
  },
  {
   "cell_type": "code",
   "execution_count": 15,
   "id": "e4c9bbca-02ca-4f12-af97-b6b003e54ea4",
   "metadata": {},
   "outputs": [
    {
     "name": "stdout",
     "output_type": "stream",
     "text": [
      "I love \"Python\"\n"
     ]
    }
   ],
   "source": [
    "a='I love \"Python\"'\n",
    "print(a)"
   ]
  },
  {
   "cell_type": "markdown",
   "id": "d09dff25-1674-4975-838d-eed87cedc43d",
   "metadata": {},
   "source": [
    "- Keep the entire string in \"Double quotes\", then highlight the word with 'Single quotes'."
   ]
  },
  {
   "cell_type": "markdown",
   "id": "f8089b52-745e-4113-8f3d-1253d502fe44",
   "metadata": {},
   "source": [
    "#### Triple quotes\n",
    "\n",
    "- Triple quotes can not be used in coding part.\n",
    "- Triple quotes means conveying the information.\n",
    "- This process is called as ** Doc String **.\n",
    "- In Jupyter Notebook, we have markdown option.\n",
    "- But, in VScode or Pycharm there is no markdown option.\n",
    "- So, the user will convey the information by providing triple quotes."
   ]
  },
  {
   "cell_type": "code",
   "execution_count": 19,
   "id": "3b1eea98-fedf-4e18-afb2-be61c2bbb5dc",
   "metadata": {},
   "outputs": [
    {
     "ename": "SyntaxError",
     "evalue": "cannot assign to True (3172837419.py, line 4)",
     "output_type": "error",
     "traceback": [
      "\u001b[1;36m  Cell \u001b[1;32mIn[19], line 4\u001b[1;36m\u001b[0m\n\u001b[1;33m    True=10      # fails as keyword cannot be used as variable.\u001b[0m\n\u001b[1;37m    ^\u001b[0m\n\u001b[1;31mSyntaxError\u001b[0m\u001b[1;31m:\u001b[0m cannot assign to True\n"
     ]
    }
   ],
   "source": [
    "true=True    # works\n",
    "true='True'  # works\n",
    "true=10.5    # works\n",
    "True=10      # fails as keyword cannot be used as variable.\n",
    "True=True    # fails"
   ]
  },
  {
   "cell_type": "code",
   "execution_count": 4,
   "id": "99eb9791-c2f3-423c-94a8-6bf283e299d8",
   "metadata": {},
   "outputs": [
    {
     "ename": "SyntaxError",
     "evalue": "cannot assign to True (2227483689.py, line 1)",
     "output_type": "error",
     "traceback": [
      "\u001b[1;36m  Cell \u001b[1;32mIn[4], line 1\u001b[1;36m\u001b[0m\n\u001b[1;33m    True = 10\u001b[0m\n\u001b[1;37m    ^\u001b[0m\n\u001b[1;31mSyntaxError\u001b[0m\u001b[1;31m:\u001b[0m cannot assign to True\n"
     ]
    }
   ],
   "source": [
    "True = 10"
   ]
  },
  {
   "cell_type": "code",
   "execution_count": 5,
   "id": "e64512b9-a329-4ad7-bedd-dcfe29ad084d",
   "metadata": {},
   "outputs": [
    {
     "ename": "SyntaxError",
     "evalue": "cannot assign to True (2452926307.py, line 1)",
     "output_type": "error",
     "traceback": [
      "\u001b[1;36m  Cell \u001b[1;32mIn[5], line 1\u001b[1;36m\u001b[0m\n\u001b[1;33m    True = True\u001b[0m\n\u001b[1;37m    ^\u001b[0m\n\u001b[1;31mSyntaxError\u001b[0m\u001b[1;31m:\u001b[0m cannot assign to True\n"
     ]
    }
   ],
   "source": [
    "True = True"
   ]
  },
  {
   "cell_type": "code",
   "execution_count": null,
   "id": "9a246394-431b-42d2-accc-d8363b63b3af",
   "metadata": {},
   "outputs": [],
   "source": []
  }
 ],
 "metadata": {
  "kernelspec": {
   "display_name": "Python 3 (ipykernel)",
   "language": "python",
   "name": "python3"
  },
  "language_info": {
   "codemirror_mode": {
    "name": "ipython",
    "version": 3
   },
   "file_extension": ".py",
   "mimetype": "text/x-python",
   "name": "python",
   "nbconvert_exporter": "python",
   "pygments_lexer": "ipython3",
   "version": "3.12.7"
  }
 },
 "nbformat": 4,
 "nbformat_minor": 5
}
