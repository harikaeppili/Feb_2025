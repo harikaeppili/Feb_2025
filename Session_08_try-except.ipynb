{
 "cells": [
  {
   "cell_type": "markdown",
   "id": "e03dd747-8749-499f-8ada-0fd0824b3e55",
   "metadata": {},
   "source": [
    "** try-except  **\n",
    "- try andexcept is a concept of exception handling.\n",
    "- There are two blocks:\n",
    "    - try block\n",
    "    - except block\n",
    "- Original code wil run under the try block\n",
    "- If any error occurs in try block,the error will be catched by the except block."
   ]
  },
  {
   "cell_type": "markdown",
   "id": "c5bdabfe-5755-4c52-9c20-afa6c6a53672",
   "metadata": {},
   "source": [
    "- Usecase-1: The code should catch the errors automatically.\n",
    "- Usecase-2: The code should continue even though we got the error. "
   ]
  },
  {
   "cell_type": "code",
   "execution_count": 4,
   "id": "8a259fe8-3b84-45dc-b24a-0d3c46c19f14",
   "metadata": {},
   "outputs": [
    {
     "name": "stdout",
     "output_type": "stream",
     "text": [
      "Error coming in try block\n",
      "Zerodivisionerror\n"
     ]
    }
   ],
   "source": [
    "try:\n",
    "    a =10\n",
    "    b=0\n",
    "    c=a/b\n",
    "    print(c)\n",
    "except:\n",
    "    print(\"Error coming in try block\")\n",
    "    print(\"Zerodivisionerror\")"
   ]
  },
  {
   "cell_type": "markdown",
   "id": "90d1da23-781f-4934-bc62-f666cd40acaf",
   "metadata": {},
   "source": [
    "**Note**:\n",
    "- Except block will run when we got the error in the try block.\n",
    "- If code is correct, try block will only be executed."
   ]
  },
  {
   "cell_type": "code",
   "execution_count": 5,
   "id": "b68ba183-ddda-41b9-87a7-f31230d7ba66",
   "metadata": {},
   "outputs": [
    {
     "name": "stdout",
     "output_type": "stream",
     "text": [
      "1.0\n"
     ]
    }
   ],
   "source": [
    "try:\n",
    "    a =10\n",
    "    b=10\n",
    "    c=a/b\n",
    "    print(c)\n",
    "except:\n",
    "    print(\"Error coming in try block\")\n",
    "    print(\"Zerodivisionerror\")"
   ]
  },
  {
   "cell_type": "code",
   "execution_count": null,
   "id": "a25b2811-9ce3-4709-9664-13fe2a849a55",
   "metadata": {},
   "outputs": [],
   "source": [
    "- Syntax error will not catch.\n",
    "- Minimum expectation, everyone should write "
   ]
  },
  {
   "cell_type": "code",
   "execution_count": 9,
   "id": "e6595a55-9e19-4f27-a438-d2efcaa3a20b",
   "metadata": {},
   "outputs": [
    {
     "ename": "SyntaxError",
     "evalue": "invalid syntax (2785071621.py, line 3)",
     "output_type": "error",
     "traceback": [
      "\u001b[1;36m  Cell \u001b[1;32mIn[9], line 3\u001b[1;36m\u001b[0m\n\u001b[1;33m    c=\u001b[0m\n\u001b[1;37m      ^\u001b[0m\n\u001b[1;31mSyntaxError\u001b[0m\u001b[1;31m:\u001b[0m invalid syntax\n"
     ]
    }
   ],
   "source": [
    "a = 45\n",
    "b=56\n",
    "c=\n",
    "print c"
   ]
  },
  {
   "cell_type": "code",
   "execution_count": 10,
   "id": "1f86eb37-1f23-4b7b-87f1-abed418b8fbc",
   "metadata": {},
   "outputs": [
    {
     "ename": "ModuleNotFoundError",
     "evalue": "No module named 'harika'",
     "output_type": "error",
     "traceback": [
      "\u001b[1;31m---------------------------------------------------------------------------\u001b[0m",
      "\u001b[1;31mModuleNotFoundError\u001b[0m                       Traceback (most recent call last)",
      "Cell \u001b[1;32mIn[10], line 1\u001b[0m\n\u001b[1;32m----> 1\u001b[0m \u001b[38;5;28;01mimport\u001b[39;00m \u001b[38;5;21;01mharika\u001b[39;00m\n",
      "\u001b[1;31mModuleNotFoundError\u001b[0m: No module named 'harika'"
     ]
    }
   ],
   "source": [
    "import harika"
   ]
  },
  {
   "cell_type": "code",
   "execution_count": 11,
   "id": "b4835b25-404d-4420-b6bc-14c8997d43de",
   "metadata": {},
   "outputs": [
    {
     "ename": "AttributeError",
     "evalue": "module 'random' has no attribute 'ran'",
     "output_type": "error",
     "traceback": [
      "\u001b[1;31m---------------------------------------------------------------------------\u001b[0m",
      "\u001b[1;31mAttributeError\u001b[0m                            Traceback (most recent call last)",
      "Cell \u001b[1;32mIn[11], line 2\u001b[0m\n\u001b[0;32m      1\u001b[0m \u001b[38;5;28;01mimport\u001b[39;00m \u001b[38;5;21;01mrandom\u001b[39;00m\n\u001b[1;32m----> 2\u001b[0m random\u001b[38;5;241m.\u001b[39mran\n",
      "\u001b[1;31mAttributeError\u001b[0m: module 'random' has no attribute 'ran'"
     ]
    }
   ],
   "source": [
    "import random\n",
    "random.ran"
   ]
  },
  {
   "cell_type": "code",
   "execution_count": 14,
   "id": "ffd8b310-c702-4f45-a4a6-c756e2d944c9",
   "metadata": {},
   "outputs": [
    {
     "ename": "TypeError",
     "evalue": "Random.randint() missing 2 required positional arguments: 'a' and 'b'",
     "output_type": "error",
     "traceback": [
      "\u001b[1;31m---------------------------------------------------------------------------\u001b[0m",
      "\u001b[1;31mTypeError\u001b[0m                                 Traceback (most recent call last)",
      "Cell \u001b[1;32mIn[14], line 2\u001b[0m\n\u001b[0;32m      1\u001b[0m \u001b[38;5;28;01mimport\u001b[39;00m \u001b[38;5;21;01mrandom\u001b[39;00m\n\u001b[1;32m----> 2\u001b[0m random\u001b[38;5;241m.\u001b[39mrandint()\n",
      "\u001b[1;31mTypeError\u001b[0m: Random.randint() missing 2 required positional arguments: 'a' and 'b'"
     ]
    }
   ],
   "source": [
    "import random\n",
    "random.randint()"
   ]
  },
  {
   "cell_type": "code",
   "execution_count": 15,
   "id": "6cf75123-2bbf-472c-82c3-ad69a228557b",
   "metadata": {},
   "outputs": [
    {
     "ename": "IndentationError",
     "evalue": "expected an indented block after 'if' statement on line 1 (1526008349.py, line 2)",
     "output_type": "error",
     "traceback": [
      "\u001b[1;36m  Cell \u001b[1;32mIn[15], line 2\u001b[1;36m\u001b[0m\n\u001b[1;33m    print(\"Even\")\u001b[0m\n\u001b[1;37m    ^\u001b[0m\n\u001b[1;31mIndentationError\u001b[0m\u001b[1;31m:\u001b[0m expected an indented block after 'if' statement on line 1\n"
     ]
    }
   ],
   "source": [
    "if n%2==0:\n",
    "print(\"Even\")"
   ]
  },
  {
   "cell_type": "code",
   "execution_count": 19,
   "id": "cf5540e9-00fe-4326-ba4f-7663a8e035d3",
   "metadata": {},
   "outputs": [
    {
     "ename": "NameError",
     "evalue": "name 'f' is not defined",
     "output_type": "error",
     "traceback": [
      "\u001b[1;31m---------------------------------------------------------------------------\u001b[0m",
      "\u001b[1;31mNameError\u001b[0m                                 Traceback (most recent call last)",
      "Cell \u001b[1;32mIn[19], line 1\u001b[0m\n\u001b[1;32m----> 1\u001b[0m a\u001b[38;5;241m=\u001b[39m\u001b[38;5;241m45\u001b[39m\u001b[38;5;241m+\u001b[39mf\n\u001b[0;32m      2\u001b[0m \u001b[38;5;28mprint\u001b[39m(a)\n",
      "\u001b[1;31mNameError\u001b[0m: name 'f' is not defined"
     ]
    }
   ],
   "source": [
    "a=45+f\n",
    "print(a)"
   ]
  },
  {
   "cell_type": "code",
   "execution_count": 20,
   "id": "19e8b0f7-9346-4c78-85c1-9552cfdeb0bd",
   "metadata": {},
   "outputs": [
    {
     "ename": "ZeroDivisionError",
     "evalue": "division by zero",
     "output_type": "error",
     "traceback": [
      "\u001b[1;31m---------------------------------------------------------------------------\u001b[0m",
      "\u001b[1;31mZeroDivisionError\u001b[0m                         Traceback (most recent call last)",
      "Cell \u001b[1;32mIn[20], line 3\u001b[0m\n\u001b[0;32m      1\u001b[0m a\u001b[38;5;241m=\u001b[39m\u001b[38;5;241m56\u001b[39m\n\u001b[0;32m      2\u001b[0m b\u001b[38;5;241m=\u001b[39m\u001b[38;5;241m0\u001b[39m\n\u001b[1;32m----> 3\u001b[0m c\u001b[38;5;241m=\u001b[39ma\u001b[38;5;241m/\u001b[39mb\n",
      "\u001b[1;31mZeroDivisionError\u001b[0m: division by zero"
     ]
    }
   ],
   "source": [
    "a=56\n",
    "b=0\n",
    "c=a/b"
   ]
  },
  {
   "cell_type": "code",
   "execution_count": 21,
   "id": "230d7ce0-d2c2-4bfe-8178-2bfc9166398d",
   "metadata": {},
   "outputs": [
    {
     "ename": "TypeError",
     "evalue": "'module' object is not callable. Did you mean: 'random.random(...)'?",
     "output_type": "error",
     "traceback": [
      "\u001b[1;31m---------------------------------------------------------------------------\u001b[0m",
      "\u001b[1;31mTypeError\u001b[0m                                 Traceback (most recent call last)",
      "Cell \u001b[1;32mIn[21], line 1\u001b[0m\n\u001b[1;32m----> 1\u001b[0m random()\n",
      "\u001b[1;31mTypeError\u001b[0m: 'module' object is not callable. Did you mean: 'random.random(...)'?"
     ]
    }
   ],
   "source": [
    "random()"
   ]
  },
  {
   "cell_type": "code",
   "execution_count": 24,
   "id": "b194ea0e-b5e3-4660-a580-63256d3245c1",
   "metadata": {},
   "outputs": [
    {
     "name": "stdin",
     "output_type": "stream",
     "text": [
      "Enter the number: 100\n",
      "Enter the number: 100\n"
     ]
    },
    {
     "name": "stdout",
     "output_type": "stream",
     "text": [
      "The division is: 1.0\n"
     ]
    }
   ],
   "source": [
    "try:\n",
    "    n1=eval(input(\"Enter the number:\"))\n",
    "    n2=eval(input(\"Enter the number:\"))\n",
    "    div = n1/n2\n",
    "    print(\"The division is:\", div)\n",
    "except Exception:\n",
    "    print(Exception)"
   ]
  },
  {
   "cell_type": "code",
   "execution_count": 23,
   "id": "927a7fc4-b59b-48fd-80d3-32474d0e5d68",
   "metadata": {},
   "outputs": [
    {
     "ename": "SyntaxError",
     "evalue": "invalid syntax (3160884006.py, line 4)",
     "output_type": "error",
     "traceback": [
      "\u001b[1;36m  Cell \u001b[1;32mIn[23], line 4\u001b[1;36m\u001b[0m\n\u001b[1;33m    c=a+\u001b[0m\n\u001b[1;37m        ^\u001b[0m\n\u001b[1;31mSyntaxError\u001b[0m\u001b[1;31m:\u001b[0m invalid syntax\n"
     ]
    }
   ],
   "source": [
    "try :\n",
    "    a=55\n",
    "    b=78\n",
    "    c=a+\n",
    "    print(\n",
    "except Exception:\n",
    "    print(Exception)"
   ]
  },
  {
   "cell_type": "code",
   "execution_count": 25,
   "id": "9aab4f53-6122-4d96-8f3a-b40ee0a18ac7",
   "metadata": {},
   "outputs": [
    {
     "name": "stdout",
     "output_type": "stream",
     "text": [
      "No module named 'python'\n"
     ]
    }
   ],
   "source": [
    "try:\n",
    "    import python\n",
    "except Exception as e:\n",
    "    print(e)"
   ]
  },
  {
   "cell_type": "code",
   "execution_count": 26,
   "id": "bda50e55-5c93-4320-893a-18a5ce30ed81",
   "metadata": {},
   "outputs": [
    {
     "name": "stdout",
     "output_type": "stream",
     "text": [
      "module 'random' has no attribute 'ran'\n"
     ]
    }
   ],
   "source": [
    "try:\n",
    "    import random\n",
    "    random.ran\n",
    "except Exception as e:\n",
    "    print(e)"
   ]
  },
  {
   "cell_type": "code",
   "execution_count": 30,
   "id": "703db826-8a80-4c20-9933-b1b7c5134edb",
   "metadata": {},
   "outputs": [
    {
     "name": "stdout",
     "output_type": "stream",
     "text": [
      "Random.randint() missing 2 required positional arguments: 'a' and 'b'\n"
     ]
    }
   ],
   "source": [
    "try:\n",
    "    import random\n",
    "    random.randint()\n",
    "except Exception as e:\n",
    "    print(e)"
   ]
  },
  {
   "cell_type": "code",
   "execution_count": 31,
   "id": "65207d0a-7459-4571-b904-80098f5735e1",
   "metadata": {},
   "outputs": [
    {
     "name": "stdout",
     "output_type": "stream",
     "text": [
      "division by zero\n"
     ]
    }
   ],
   "source": [
    "try:\n",
    "    n=100\n",
    "    o= 0\n",
    "    print(n/o)\n",
    "except Exception as e:\n",
    "    print(e)"
   ]
  },
  {
   "cell_type": "code",
   "execution_count": 33,
   "id": "b699d29b-4c7b-44e1-8906-2ced8b049f25",
   "metadata": {},
   "outputs": [
    {
     "ename": "IndentationError",
     "evalue": "expected an indented block after 'try' statement on line 1 (3344011078.py, line 2)",
     "output_type": "error",
     "traceback": [
      "\u001b[1;36m  Cell \u001b[1;32mIn[33], line 2\u001b[1;36m\u001b[0m\n\u001b[1;33m    a=55\u001b[0m\n\u001b[1;37m    ^\u001b[0m\n\u001b[1;31mIndentationError\u001b[0m\u001b[1;31m:\u001b[0m expected an indented block after 'try' statement on line 1\n"
     ]
    }
   ],
   "source": [
    "try :\n",
    "a=55\n",
    "b=78\n",
    "c=a+\n",
    "print(\n",
    "except Exception:\n",
    "    print(Exception)"
   ]
  },
  {
   "cell_type": "code",
   "execution_count": 41,
   "id": "9ca1586a-a0c5-43d5-bef2-134dfd6389b6",
   "metadata": {},
   "outputs": [
    {
     "name": "stdin",
     "output_type": "stream",
     "text": [
      "Enter the number: 77\n"
     ]
    },
    {
     "name": "stdout",
     "output_type": "stream",
     "text": [
      "77 is odd\n"
     ]
    }
   ],
   "source": [
    "try:\n",
    "    n= eval(input(\"Enter the number:\"))\n",
    "    if n%2==0:\n",
    "        print(f\"{n} is even\")\n",
    "    else:\n",
    "        print(f\"{n} is odd\")\n",
    "except exception as e:\n",
    "    print(e)"
   ]
  },
  {
   "cell_type": "code",
   "execution_count": 43,
   "id": "51e33436-366b-4612-bd13-9f34c731f496",
   "metadata": {},
   "outputs": [
    {
     "name": "stdin",
     "output_type": "stream",
     "text": [
      "Enter the number: 56\n"
     ]
    },
    {
     "name": "stdout",
     "output_type": "stream",
     "text": [
      "name 'n18' is not defined\n",
      "10\n"
     ]
    }
   ],
   "source": [
    "try:\n",
    "    n= eval(input(\"Enter the number:\"))\n",
    "    if n%2==0:\n",
    "        print(f\"{n18} is even\")\n",
    "    else:\n",
    "        print(f\"{n18} is odd\")\n",
    "except Exception as e:\n",
    "    print(e)\n",
    "    a=5\n",
    "    b=5\n",
    "    c=a+b\n",
    "    print(c)"
   ]
  },
  {
   "cell_type": "code",
   "execution_count": null,
   "id": "5711f058-9b61-4e23-ae2e-d1185b37e483",
   "metadata": {},
   "outputs": [],
   "source": []
  }
 ],
 "metadata": {
  "kernelspec": {
   "display_name": "Python 3 (ipykernel)",
   "language": "python",
   "name": "python3"
  },
  "language_info": {
   "codemirror_mode": {
    "name": "ipython",
    "version": 3
   },
   "file_extension": ".py",
   "mimetype": "text/x-python",
   "name": "python",
   "nbconvert_exporter": "python",
   "pygments_lexer": "ipython3",
   "version": "3.12.7"
  }
 },
 "nbformat": 4,
 "nbformat_minor": 5
}
