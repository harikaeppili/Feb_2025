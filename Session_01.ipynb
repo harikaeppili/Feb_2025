{
 "cells": [
  {
   "cell_type": "code",
   "execution_count": 7,
   "id": "6dca12cb-d047-4311-ac04-030731991286",
   "metadata": {},
   "outputs": [
    {
     "data": {
      "text/plain": [
       "'C:\\\\Users\\\\HARIKA\\\\Documents\\\\Naresh IT\\\\Python Sessions'"
      ]
     },
     "execution_count": 7,
     "metadata": {},
     "output_type": "execute_result"
    }
   ],
   "source": [
    "import os\n",
    "os.getcwd()"
   ]
  },
  {
   "cell_type": "code",
   "execution_count": 4,
   "id": "f1a5da22-44ea-43a1-969b-e2f0819bdb43",
   "metadata": {},
   "outputs": [],
   "source": [
    "number =34"
   ]
  },
  {
   "cell_type": "code",
   "execution_count": 5,
   "id": "8bd9a186-2f79-434d-a6c6-edd12e725883",
   "metadata": {},
   "outputs": [
    {
     "data": {
      "text/plain": [
       "34"
      ]
     },
     "execution_count": 5,
     "metadata": {},
     "output_type": "execute_result"
    }
   ],
   "source": [
    "number"
   ]
  },
  {
   "cell_type": "code",
   "execution_count": null,
   "id": "f6352df7-d1ea-4532-b0ed-b562e031b03d",
   "metadata": {},
   "outputs": [],
   "source": [
    "#checkpoint-1\n",
    "# empty square bracket before the code cell\n",
    "#indicates we did not run the cell\n",
    "\n",
    "#checkpoint-2\n",
    "# If we see a * mark inside squarebracket\n",
    "#do not run the next cell\n",
    "\n",
    "# Star mark indicates  kernel is busy\n",
    "# The same we can observe the top left corner black dot"
   ]
  },
  {
   "cell_type": "markdown",
   "id": "a1e7ef90-0af2-477c-9e54-b9f6441d9709",
   "metadata": {},
   "source": [
    "hello today Im learning python\n",
    "\n",
    "Square bracket is there: yes\n",
    "\n",
    "Code MOde id there : Yes\n",
    "\n",
    "If these two are there which indicates this current cell used for to write code only\n",
    "\n",
    "If you write English I will throw Error\n",
    "\n",
    "Go to Top code mode after a Dropdown symbol is there\n",
    "\n",
    "Click on it\n",
    "\n",
    "We can see markdown option\n",
    "\n",
    "Select it then we can not see any square bracket"
   ]
  },
  {
   "cell_type": "markdown",
   "id": "53bd5624-c212-4c69-ab08-cac3bf987da9",
   "metadata": {},
   "source": [
    "# Python\n",
    "- esc + m will change code mode to markdown mode\n",
    "- esc + y will change markdown mode to code mode\n",
    "- shift+enter"
   ]
  },
  {
   "cell_type": "markdown",
   "id": "621a72ed-4043-482f-a78c-44f4496d22ae",
   "metadata": {},
   "source": [
    "# Python\n",
    "## Python\n",
    "### Python\n",
    "#### Python"
   ]
  },
  {
   "cell_type": "code",
   "execution_count": null,
   "id": "491d8da6-7145-4262-a246-653a755e66d4",
   "metadata": {},
   "outputs": [],
   "source": [
    "** How to upload Image **\n",
    " - But this will workfor only some people\n",
    " - Don't worry\n",
    "ctrl+a\n",
    "ctrl+c\n",
    "ctrl+v\n",
    "esc+m\n",
    "shift+enter"
   ]
  },
  {
   "cell_type": "markdown",
   "id": "8baaa60f-5ea9-4bbf-8905-06fda1854667",
   "metadata": {},
   "source": [
    "<img id=\"dimg_PXdzZ4Rdi4fj4Q-u89uADw_399\" src=\"data:image/jpeg;base64,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\" class=\"YQ4gaf\" height=\"159\" style=\"object-position:42% 30%\" width=\"318\" alt=\"Top 10 Coding Mistakes in Python &amp; How ...\" data-csiid=\"PXdzZ4Rdi4fj4Q-u89uADw_28\" data-atf=\"5\">"
   ]
  },
  {
   "cell_type": "code",
   "execution_count": 6,
   "id": "0c6e95c3-ea47-4db7-9da8-238e40ada81f",
   "metadata": {},
   "outputs": [
    {
     "name": "stdout",
     "output_type": "stream",
     "text": [
      "10\n"
     ]
    }
   ],
   "source": [
    "int=10\n",
    "print(int)"
   ]
  },
  {
   "cell_type": "code",
   "execution_count": null,
   "id": "542a778c-fa64-4bfd-9ef8-bef0dd55d102",
   "metadata": {},
   "outputs": [],
   "source": []
  }
 ],
 "metadata": {
  "kernelspec": {
   "display_name": "Python 3 (ipykernel)",
   "language": "python",
   "name": "python3"
  },
  "language_info": {
   "codemirror_mode": {
    "name": "ipython",
    "version": 3
   },
   "file_extension": ".py",
   "mimetype": "text/x-python",
   "name": "python",
   "nbconvert_exporter": "python",
   "pygments_lexer": "ipython3",
   "version": "3.12.7"
  }
 },
 "nbformat": 4,
 "nbformat_minor": 5
}
